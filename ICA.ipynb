{
 "cells": [
  {
   "cell_type": "markdown",
   "id": "44520936-a9b7-45ff-aa06-748209d0fa5a",
   "metadata": {},
   "source": [
    "# Using ICA to reduce artefacts"
   ]
  },
  {
   "cell_type": "markdown",
   "id": "14d48cb7-3809-4917-a4dd-5b1f73a7d9d6",
   "metadata": {},
   "source": [
    "This section will demonstrate how to use an independent component analysis (ICA) approach to suppress ocular and cardiac artefacts. First, the data will be decomposed using ICA, after which the components reflecting the artefacts will be identified manually. As a last step, the artefact components will be 'projected out'."
   ]
  },
  {
   "cell_type": "markdown",
   "id": "5df5f9e1-a868-49b3-bd1b-6293ff36aa1f",
   "metadata": {},
   "source": [
    "## Preparation\n",
    "### Import the necessary modules\n",
    "Below are the required Python modules to be imported"
   ]
  },
  {
   "cell_type": "code",
   "execution_count": 1,
   "id": "eebcf2c3-02d1-4cb2-8682-7d19acb35445",
   "metadata": {},
   "outputs": [],
   "source": [
    "import mne\n",
    "import os\n",
    "import matplotlib\n",
    "import numpy as np\n",
    "import matplotlib.pyplot as plt\n",
    "import os.path as op\n",
    "from mne_bids import (\n",
    "    BIDSPath,\n",
    "    read_raw_bids\n",
    ")\n",
    "from mne.preprocessing import ICA\n",
    "from IPython.display import Image, display"
   ]
  },
  {
   "attachments": {},
   "cell_type": "markdown",
   "id": "62a912d8-e67d-4f5f-a1bf-093cbe1ae021",
   "metadata": {},
   "source": [
    "### File overview\n",
    "\n",
    "The chapter relies on the file (embedded in the BIDS structure):\n",
    "\n",
    "< BIDS_ROOT >/derivatives/Preprocessing/sub-01/ses-01/meg/sub-01_ses-01_task-SpAtt_run-01_hfc_raw.fif\n",
    "\n",
    "and generates the output files:\n",
    "\n",
    "< BIDS_ROOT >/derivatives/Preprocessing/sub-01/ses-01/meg/sub-01_ses-01_task-SpAtt_run-01_ica_raw.fif\n"
   ]
  },
  {
   "cell_type": "markdown",
   "id": "2a19d1ac-ad08-4d6b-9bc5-4b5af61f66bb",
   "metadata": {},
   "source": [
    "The filtered data is saved in the derivative folder of the BIDS Directory. \n"
   ]
  },
  {
   "cell_type": "markdown",
   "id": "1d499ed9-8122-457e-941a-a5c0945f6c4f",
   "metadata": {},
   "source": [
    "Specify the BIDS parameters along with the path to the BIDS folder:"
   ]
  },
  {
   "cell_type": "code",
   "execution_count": 2,
   "id": "f379e447-01f3-4c91-b9dd-c2df642a9c95",
   "metadata": {},
   "outputs": [
    {
     "name": "stdout",
     "output_type": "stream",
     "text": [
      "/Users/o.jensen@bham.ac.uk/Data/CercaOxf/fif/Cerca_Spatt_BIDS/derivatives/preprocessing/sub-01/ses-01/meg/sub-01_ses-01_task-SpAtt_run-01_ann_raw.fif\n",
      "/Users/o.jensen@bham.ac.uk/Data/CercaOxf/fif/Cerca_Spatt_BIDS/derivatives/preprocessing/sub-01/ses-01/meg/sub-01_ses-01_task-SpAtt_run-01_ica_raw.fif\n"
     ]
    }
   ],
   "source": [
    "subject = '01'\n",
    "session = '01'\n",
    "task = 'SpAtt'\n",
    "run = '01'\n",
    "meg_suffix = 'meg'\n",
    "hfc_suffix = 'hfc_raw'\n",
    "ann_suffix = 'ann_raw'\n",
    "ica_suffix ='ica_raw'\n",
    "\n",
    "# data_path='C:/Users/rakshita/Documents/Cerca_raw_files'\n",
    "data_path = '/Users/o.jensen@bham.ac.uk/Data/CercaOxf/fif'\n",
    "\n",
    "bids_root = op.join(data_path, \"Cerca_Spatt_BIDS\")\n",
    "deriv_root = op.join(bids_root, \"derivatives/preprocessing\")\n",
    "\n",
    "bids_path = BIDSPath(subject=subject, session=session, datatype='meg',\n",
    "            task=task, run=run, suffix=ann_suffix, \n",
    "            root=deriv_root, extension='.fif', check=False)\n",
    "\n",
    "deriv_fname = bids_path.basename.replace(ann_suffix, ica_suffix) # fif output filename\n",
    "deriv_fname_fif = op.join(bids_path.directory, deriv_fname)\n",
    "\n",
    "print(bids_path)\n",
    "print(deriv_fname_fif)"
   ]
  },
  {
   "cell_type": "markdown",
   "id": "ea24fe1c-aab3-4a4e-9766-eb8748b214e3",
   "metadata": {},
   "source": [
    "\n",
    "## Resampling and filtering of the raw data\n",
    "\n",
    "To make the ICA algorithm operate more efficiently, the data will be downsampled. The version of the dataset that has already been cleaned using homogeneous field correction and has annotations will be used. This data will be resampled to 250 Hz, and then a bandpass filter between 1 and 40 Hz will be applied. The high-pass filter at 1 Hz is especially important as it removes slow drifts in the signal, which can otherwise make ICA less effective.\n",
    "\n",
    "Note that the ICA projection eventually will be applied to the raw data sampled as 1500 Hz; i.e. the down-sampling applied is only temporary.\n"
   ]
  },
  {
   "cell_type": "code",
   "execution_count": 3,
   "id": "5fa274f9-6947-4a73-93f7-d9f0a58032a6",
   "metadata": {},
   "outputs": [
    {
     "name": "stdout",
     "output_type": "stream",
     "text": [
      "Opening raw data file /Users/o.jensen@bham.ac.uk/Data/CercaOxf/fif/Cerca_Spatt_BIDS/derivatives/preprocessing/sub-01/ses-01/meg/sub-01_ses-01_task-SpAtt_run-01_ann_raw.fif...\n",
      "    Read a total of 8 projection items:\n",
      "        HFC: l=1 m=-1 (1 x 180) active\n",
      "        HFC: l=1 m=0 (1 x 180) active\n",
      "        HFC: l=1 m=1 (1 x 180) active\n",
      "        HFC: l=2 m=-2 (1 x 180) active\n",
      "        HFC: l=2 m=-1 (1 x 180) active\n",
      "        HFC: l=2 m=0 (1 x 180) active\n",
      "        HFC: l=2 m=1 (1 x 180) active\n",
      "        HFC: l=2 m=2 (1 x 180) active\n",
      "    Range : 0 ... 1539807 =      0.000 ...  2053.076 secs\n",
      "Ready.\n",
      "Reading 0 ... 1539807  =      0.000 ...  2053.076 secs...\n"
     ]
    },
    {
     "name": "stderr",
     "output_type": "stream",
     "text": [
      "/var/folders/n0/w7vb4jpn0nx3hs95f4p7r9br0000gr/T/ipykernel_75707/2274475918.py:2: RuntimeWarning: Did not find any events.tsv associated with sub-01_ses-01_task-SpAtt_run-01.\n",
      "\n",
      "The search_str was \"/Users/o.jensen@bham.ac.uk/Data/CercaOxf/fif/Cerca_Spatt_BIDS/derivatives/preprocessing/sub-01/**/meg/sub-01_ses-01*events.tsv\"\n",
      "  raw = read_raw_bids(bids_path=bids_path, extra_params={'preload': True}, verbose=True)\n",
      "/var/folders/n0/w7vb4jpn0nx3hs95f4p7r9br0000gr/T/ipykernel_75707/2274475918.py:2: RuntimeWarning: Did not find any channels.tsv associated with sub-01_ses-01_task-SpAtt_run-01.\n",
      "\n",
      "The search_str was \"/Users/o.jensen@bham.ac.uk/Data/CercaOxf/fif/Cerca_Spatt_BIDS/derivatives/preprocessing/sub-01/**/meg/sub-01_ses-01*channels.tsv\"\n",
      "  raw = read_raw_bids(bids_path=bids_path, extra_params={'preload': True}, verbose=True)\n",
      "/var/folders/n0/w7vb4jpn0nx3hs95f4p7r9br0000gr/T/ipykernel_75707/2274475918.py:2: RuntimeWarning: Did not find any meg.json associated with sub-01_ses-01_task-SpAtt_run-01.\n",
      "\n",
      "The search_str was \"/Users/o.jensen@bham.ac.uk/Data/CercaOxf/fif/Cerca_Spatt_BIDS/derivatives/preprocessing/sub-01/**/meg/sub-01_ses-01*meg.json\"\n",
      "  raw = read_raw_bids(bids_path=bids_path, extra_params={'preload': True}, verbose=True)\n",
      "/var/folders/n0/w7vb4jpn0nx3hs95f4p7r9br0000gr/T/ipykernel_75707/2274475918.py:2: RuntimeWarning: participants.tsv file not found for /Users/o.jensen@bham.ac.uk/Data/CercaOxf/fif/Cerca_Spatt_BIDS/derivatives/preprocessing/sub-01/ses-01/meg/sub-01_ses-01_task-SpAtt_run-01_ann_raw.fif\n",
      "  raw = read_raw_bids(bids_path=bids_path, extra_params={'preload': True}, verbose=True)\n"
     ]
    },
    {
     "name": "stdout",
     "output_type": "stream",
     "text": [
      "Filtering raw data in 1 contiguous segment\n",
      "Setting up band-pass filter from 3 - 30 Hz\n",
      "\n",
      "FIR filter parameters\n",
      "---------------------\n",
      "Designing a one-pass, zero-phase, non-causal bandpass filter:\n",
      "- Windowed time-domain design (firwin) method\n",
      "- Hamming window with 0.0194 passband ripple and 53 dB stopband attenuation\n",
      "- Lower passband edge: 3.00\n",
      "- Lower transition bandwidth: 2.00 Hz (-6 dB cutoff frequency: 2.00 Hz)\n",
      "- Upper passband edge: 30.00 Hz\n",
      "- Upper transition bandwidth: 7.50 Hz (-6 dB cutoff frequency: 33.75 Hz)\n",
      "- Filter length: 1239 samples (1.652 s)\n",
      "\n"
     ]
    },
    {
     "name": "stderr",
     "output_type": "stream",
     "text": [
      "[Parallel(n_jobs=1)]: Done  17 tasks      | elapsed:    0.5s\n",
      "[Parallel(n_jobs=1)]: Done  71 tasks      | elapsed:    2.1s\n",
      "[Parallel(n_jobs=1)]: Done 161 tasks      | elapsed:    4.7s\n"
     ]
    },
    {
     "data": {
      "text/html": [
       "<script type=\"text/javascript\">\n",
       "    // must be `var` (not `const`) because this can get embedded multiple times on a page\n",
       "var toggleVisibility = (className) => {\n",
       "\n",
       "    const elements = document.querySelectorAll(`.${className}`);\n",
       "\n",
       "    elements.forEach(element => {\n",
       "        if (element.classList.contains(\"mne-repr-section-header\")) {\n",
       "            return  // Don't collapse the section header row\n",
       "        }\n",
       "        element.classList.toggle(\"mne-repr-collapsed\");\n",
       "    });\n",
       "\n",
       "    // trigger caret to rotate\n",
       "    var sel = `.mne-repr-section-header.${className} > th.mne-repr-section-toggle > button`;\n",
       "    const button = document.querySelector(sel);\n",
       "    button.classList.toggle(\"collapsed\");\n",
       "\n",
       "    // adjust tooltip\n",
       "    sel = `tr.mne-repr-section-header.${className}`;\n",
       "    const secHeadRow = document.querySelector(sel);\n",
       "    secHeadRow.classList.toggle(\"collapsed\");\n",
       "    secHeadRow.title = secHeadRow.title === \"Hide section\" ? \"Show section\" : \"Hide section\";\n",
       "}\n",
       "</script>\n",
       "\n",
       "<style type=\"text/css\">\n",
       "    /*\n",
       "Styles in this section apply both to the sphinx-built website docs and to notebooks\n",
       "rendered in an IDE or in Jupyter. In our web docs, styles here are complemented by\n",
       "doc/_static/styles.css and other CSS files (e.g. from the sphinx theme, sphinx-gallery,\n",
       "or bootstrap). In IDEs/Jupyter, those style files are unavailable, so only the rules in\n",
       "this file apply (plus whatever default styling the IDE applies).\n",
       "*/\n",
       ".mne-repr-table {\n",
       "    display: inline;  /* prevent using full container width */\n",
       "}\n",
       ".mne-repr-table tr.mne-repr-section-header > th {\n",
       "    padding-top: 1rem;\n",
       "    text-align: left;\n",
       "    vertical-align: middle;\n",
       "}\n",
       ".mne-repr-section-toggle > button {\n",
       "    all: unset;\n",
       "    display: block;\n",
       "    height: 1rem;\n",
       "    width: 1rem;\n",
       "}\n",
       ".mne-repr-section-toggle > button > svg {\n",
       "    height: 60%;\n",
       "}\n",
       "\n",
       "/* transition (rotation) effects on the collapser button */\n",
       ".mne-repr-section-toggle > button.collapsed > svg {\n",
       "    transition: 0.1s ease-out;\n",
       "    transform: rotate(-90deg);\n",
       "}\n",
       ".mne-repr-section-toggle > button:not(.collapsed) > svg {\n",
       "    transition: 0.1s ease-out;\n",
       "    transform: rotate(0deg);\n",
       "}\n",
       "\n",
       "/* hide collapsed table rows */\n",
       ".mne-repr-collapsed {\n",
       "    display: none;\n",
       "}\n",
       "\n",
       "\n",
       "@layer {\n",
       "    /*\n",
       "    Selectors in a `@layer` will always be lower-precedence than selectors outside the\n",
       "    layer. So even though e.g. `div.output_html` is present in the sphinx-rendered\n",
       "    website docs, the styles here won't take effect there as long as some other rule\n",
       "    somewhere in the page's CSS targets the same element.\n",
       "\n",
       "    In IDEs or Jupyter notebooks, though, the CSS files from the sphinx theme,\n",
       "    sphinx-gallery, and bootstrap are unavailable, so these styles will apply.\n",
       "\n",
       "    Notes:\n",
       "\n",
       "    - the selector `.accordion-body` is for MNE Reports\n",
       "    - the selector `.output_html` is for VSCode's notebook interface\n",
       "    - the selector `.jp-RenderedHTML` is for Jupyter notebook\n",
       "    - variables starting with `--theme-` are VSCode-specific.\n",
       "    - variables starting with `--jp-` are Jupyter styles, *some of which* are also\n",
       "      available in VSCode. Here we try the `--theme-` variable first, then fall back to\n",
       "      the `--jp-` ones.\n",
       "    */\n",
       "    .mne-repr-table {\n",
       "        --mne-toggle-color: var(--theme-foreground, var(--jp-ui-font-color1));\n",
       "        --mne-button-bg-color: var(--theme-button-background, var(--jp-info-color0, var(--jp-content-link-color)));\n",
       "        --mne-button-fg-color: var(--theme-button-foreground, var(--jp-ui-inverse-font-color0, var(--jp-editor-background)));\n",
       "        --mne-button-hover-bg-color: var(--theme-button-hover-background, var(--jp-info-color1));\n",
       "        --mne-button-radius: var(--jp-border-radius, 0.25rem);\n",
       "    }\n",
       "    /* chevron position/alignment; in VSCode it looks ok without adjusting */\n",
       "    .accordion-body .mne-repr-section-toggle > button,\n",
       "    .jp-RenderedHTML .mne-repr-section-toggle > button {\n",
       "        padding: 0 0 45% 25% !important;\n",
       "    }\n",
       "    /* chevron color; MNE Report doesn't have light/dark mode */\n",
       "    div.output_html .mne-repr-section-toggle > button > svg > path,\n",
       "    .jp-RenderedHTML .mne-repr-section-toggle > button > svg > path {\n",
       "        fill: var(--mne-toggle-color);\n",
       "    }\n",
       "    .accordion-body .mne-ch-names-btn,\n",
       "    div.output_html .mne-ch-names-btn,\n",
       "    .jp-RenderedHTML .mne-ch-names-btn {\n",
       "        -webkit-border-radius: var(--mne-button-radius);\n",
       "        -moz-border-radius: var(--mne-button-radius);\n",
       "        border-radius: var(--mne-button-radius);\n",
       "        border: none;\n",
       "        background-image: none;\n",
       "        background-color: var(--mne-button-bg-color);\n",
       "        color: var(--mne-button-fg-color);\n",
       "        font-size: inherit;\n",
       "        min-width: 1.5rem;\n",
       "        padding: 0.25rem;\n",
       "        text-align: center;\n",
       "        text-decoration: none;\n",
       "    }\n",
       "    .accordion-body .mne-ch-names-btn:hover,\n",
       "    div.output_html .mne.ch-names-btn:hover,\n",
       "    .jp-RenderedHTML .mne-ch-names-btn:hover {\n",
       "        background-color: var(--mne-button-hover-bg-color);\n",
       "        text-decoration: underline;\n",
       "    }\n",
       "    .accordion-body .mne-ch-names-btn:focus-visible,\n",
       "    div.output_html .mne-ch-names-btn:focus-visible,\n",
       "    .jp-RenderedHTML .mne-ch-names-btn:focus-visible {\n",
       "        outline: 0.1875rem solid var(--mne-button-bg-color) !important;\n",
       "        outline-offset: 0.1875rem !important;\n",
       "    }\n",
       "}\n",
       "</style>\n",
       "\n",
       "\n",
       "\n",
       "<table class=\"table mne-repr-table\">\n",
       "    \n",
       "\n",
       "\n",
       "\n",
       "\n",
       "\n",
       "\n",
       "\n",
       "<tr class=\"mne-repr-section-header general-aad7ce8c-b96c-4612-901d-62d4021c9278\"\n",
       "     title=\"Hide section\" \n",
       "    onclick=\"toggleVisibility('general-aad7ce8c-b96c-4612-901d-62d4021c9278')\">\n",
       "    <th class=\"mne-repr-section-toggle\">\n",
       "        <button >\n",
       "            <svg xmlns=\"http://www.w3.org/2000/svg\" viewBox=\"0 0 512 512\"><!--!Font Awesome Free 6.6.0 by @fontawesome - https://fontawesome.com License - https://fontawesome.com/license/free Copyright 2024 Fonticons, Inc.--><path d=\"M233.4 406.6c12.5 12.5 32.8 12.5 45.3 0l192-192c12.5-12.5 12.5-32.8 0-45.3s-32.8-12.5-45.3 0L256 338.7 86.6 169.4c-12.5-12.5-32.8-12.5-45.3 0s-12.5 32.8 0 45.3l192 192z\"/></svg>\n",
       "        </button>\n",
       "    </th>\n",
       "    <th colspan=\"2\">\n",
       "        <strong>General</strong>\n",
       "    </th>\n",
       "</tr>\n",
       "\n",
       "\n",
       "<tr class=\"repr-element general-aad7ce8c-b96c-4612-901d-62d4021c9278 \">\n",
       "    <td class=\"mne-repr-section-toggle\"></td>\n",
       "    <td>Filename(s)</td>\n",
       "    <td>\n",
       "        \n",
       "        sub-01_ses-01_task-SpAtt_run-01_ann_raw.fif\n",
       "        \n",
       "        \n",
       "    </td>\n",
       "</tr>\n",
       "\n",
       "<tr class=\"repr-element general-aad7ce8c-b96c-4612-901d-62d4021c9278 \">\n",
       "    <td class=\"mne-repr-section-toggle\"></td>\n",
       "    <td>MNE object type</td>\n",
       "    <td>Raw</td>\n",
       "</tr>\n",
       "<tr class=\"repr-element general-aad7ce8c-b96c-4612-901d-62d4021c9278 \">\n",
       "    <td class=\"mne-repr-section-toggle\"></td>\n",
       "    <td>Measurement date</td>\n",
       "    \n",
       "    <td>Unknown</td>\n",
       "    \n",
       "</tr>\n",
       "<tr class=\"repr-element general-aad7ce8c-b96c-4612-901d-62d4021c9278 \">\n",
       "    <td class=\"mne-repr-section-toggle\"></td>\n",
       "    <td>Participant</td>\n",
       "    \n",
       "    \n",
       "    \n",
       "</tr>\n",
       "<tr class=\"repr-element general-aad7ce8c-b96c-4612-901d-62d4021c9278 \">\n",
       "    <td class=\"mne-repr-section-toggle\"></td>\n",
       "    <td>Experimenter</td>\n",
       "    \n",
       "    <td>mne_anonymize</td>\n",
       "    \n",
       "</tr>\n",
       "    \n",
       "\n",
       "\n",
       "\n",
       "\n",
       "\n",
       "\n",
       "\n",
       "<tr class=\"mne-repr-section-header acquisition-ec7da91d-a8eb-46a7-986c-38bf5fc6b6b0\"\n",
       "     title=\"Hide section\" \n",
       "    onclick=\"toggleVisibility('acquisition-ec7da91d-a8eb-46a7-986c-38bf5fc6b6b0')\">\n",
       "    <th class=\"mne-repr-section-toggle\">\n",
       "        <button >\n",
       "            <svg xmlns=\"http://www.w3.org/2000/svg\" viewBox=\"0 0 512 512\"><!--!Font Awesome Free 6.6.0 by @fontawesome - https://fontawesome.com License - https://fontawesome.com/license/free Copyright 2024 Fonticons, Inc.--><path d=\"M233.4 406.6c12.5 12.5 32.8 12.5 45.3 0l192-192c12.5-12.5 12.5-32.8 0-45.3s-32.8-12.5-45.3 0L256 338.7 86.6 169.4c-12.5-12.5-32.8-12.5-45.3 0s-12.5 32.8 0 45.3l192 192z\"/></svg>\n",
       "        </button>\n",
       "    </th>\n",
       "    <th colspan=\"2\">\n",
       "        <strong>Acquisition</strong>\n",
       "    </th>\n",
       "</tr>\n",
       "\n",
       "\n",
       "<tr class=\"repr-element acquisition-ec7da91d-a8eb-46a7-986c-38bf5fc6b6b0 \">\n",
       "    <td class=\"mne-repr-section-toggle\"></td>\n",
       "    <td>Duration</td>\n",
       "    <td>00:34:14 (HH:MM:SS)</td>\n",
       "</tr>\n",
       "\n",
       "\n",
       "\n",
       "\n",
       "\n",
       "\n",
       "\n",
       "\n",
       "<tr class=\"repr-element acquisition-ec7da91d-a8eb-46a7-986c-38bf5fc6b6b0 \">\n",
       "    <td class=\"mne-repr-section-toggle\"></td>\n",
       "    <td>Sampling frequency</td>\n",
       "    <td>250.00 Hz</td>\n",
       "</tr>\n",
       "\n",
       "\n",
       "<tr class=\"repr-element acquisition-ec7da91d-a8eb-46a7-986c-38bf5fc6b6b0 \">\n",
       "    <td class=\"mne-repr-section-toggle\"></td>\n",
       "    <td>Time points</td>\n",
       "    <td>513,269</td>\n",
       "</tr>\n",
       "\n",
       "\n",
       "    \n",
       "\n",
       "\n",
       "\n",
       "\n",
       "\n",
       "\n",
       "\n",
       "<tr class=\"mne-repr-section-header channels-372946e5-165d-4ed9-ab22-ce1bbab57c6d\"\n",
       "     title=\"Hide section\" \n",
       "    onclick=\"toggleVisibility('channels-372946e5-165d-4ed9-ab22-ce1bbab57c6d')\">\n",
       "    <th class=\"mne-repr-section-toggle\">\n",
       "        <button >\n",
       "            <svg xmlns=\"http://www.w3.org/2000/svg\" viewBox=\"0 0 512 512\"><!--!Font Awesome Free 6.6.0 by @fontawesome - https://fontawesome.com License - https://fontawesome.com/license/free Copyright 2024 Fonticons, Inc.--><path d=\"M233.4 406.6c12.5 12.5 32.8 12.5 45.3 0l192-192c12.5-12.5 12.5-32.8 0-45.3s-32.8-12.5-45.3 0L256 338.7 86.6 169.4c-12.5-12.5-32.8-12.5-45.3 0s-12.5 32.8 0 45.3l192 192z\"/></svg>\n",
       "        </button>\n",
       "    </th>\n",
       "    <th colspan=\"2\">\n",
       "        <strong>Channels</strong>\n",
       "    </th>\n",
       "</tr>\n",
       "\n",
       "\n",
       "    \n",
       "<tr class=\"repr-element channels-372946e5-165d-4ed9-ab22-ce1bbab57c6d \">\n",
       "    <td class=\"mne-repr-section-toggle\"></td>\n",
       "    <td>Magnetometers</td>\n",
       "    <td>\n",
       "        <button class=\"mne-ch-names-btn sd-sphinx-override sd-btn sd-btn-info sd-text-wrap sd-shadow-sm\" onclick=\"alert('Good Magnetometers:\\n\\nF1&nbsp;A1&nbsp;Z, F1&nbsp;A1&nbsp;Y, F1&nbsp;A1&nbsp;X, F3&nbsp;A3&nbsp;Z, F3&nbsp;A3&nbsp;Y, F3&nbsp;A3&nbsp;X, F5&nbsp;A6&nbsp;Z, F5&nbsp;A6&nbsp;Y, F5&nbsp;A6&nbsp;X, F7&nbsp;C3&nbsp;Z, F7&nbsp;C3&nbsp;Y, F7&nbsp;C3&nbsp;X, F9&nbsp;A4&nbsp;Z, F9&nbsp;A4&nbsp;Y, F9&nbsp;A4&nbsp;X, F11&nbsp;A8&nbsp;Z, F11&nbsp;A8&nbsp;Y, F11&nbsp;A8&nbsp;X, C1&nbsp;A7&nbsp;Z, C1&nbsp;A7&nbsp;Y, C1&nbsp;A7&nbsp;X, C3&nbsp;C2&nbsp;Z, C3&nbsp;C2&nbsp;Y, C3&nbsp;C2&nbsp;X, C5&nbsp;C1&nbsp;Z, C5&nbsp;C1&nbsp;Y, C5&nbsp;C1&nbsp;X, C7&nbsp;E4&nbsp;Z, C7&nbsp;E4&nbsp;Y, C7&nbsp;E4&nbsp;X, P1&nbsp;E8&nbsp;Z, P1&nbsp;E8&nbsp;Y, P1&nbsp;E8&nbsp;X, P3&nbsp;E1&nbsp;Z, P3&nbsp;E1&nbsp;Y, P3&nbsp;E1&nbsp;X, P5&nbsp;C6&nbsp;Z, P5&nbsp;C6&nbsp;Y, P5&nbsp;C6&nbsp;X, P7&nbsp;E7&nbsp;Z, P7&nbsp;E7&nbsp;Y, P7&nbsp;E7&nbsp;X, P9&nbsp;E3&nbsp;Z, P9&nbsp;E3&nbsp;Y, P9&nbsp;E3&nbsp;X, P11&nbsp;E6&nbsp;Z, P11&nbsp;E6&nbsp;Y, P11&nbsp;E6&nbsp;X, O1&nbsp;E5&nbsp;Z, O1&nbsp;E5&nbsp;Y, O1&nbsp;E5&nbsp;X, O3&nbsp;G6&nbsp;Z, O3&nbsp;G6&nbsp;Y, O3&nbsp;G6&nbsp;X, O5&nbsp;G4&nbsp;Z, O5&nbsp;G4&nbsp;Y, O5&nbsp;G4&nbsp;X, O7&nbsp;G2&nbsp;Z, O7&nbsp;G2&nbsp;Y, O7&nbsp;G2&nbsp;X, O9&nbsp;G3&nbsp;Z, O9&nbsp;G3&nbsp;Y, T1&nbsp;C7&nbsp;Y, T1&nbsp;C7&nbsp;X, T3&nbsp;C4&nbsp;Z, T3&nbsp;C4&nbsp;Y, T3&nbsp;C4&nbsp;X, T5&nbsp;C5&nbsp;X, T7&nbsp;C8&nbsp;Z, T7&nbsp;C8&nbsp;Y, T7&nbsp;C8&nbsp;X, T9&nbsp;G1&nbsp;Z, T9&nbsp;G1&nbsp;Y, T9&nbsp;G1&nbsp;X, T11&nbsp;G7&nbsp;Z, T11&nbsp;G7&nbsp;X, T13&nbsp;G8&nbsp;Z, T13&nbsp;G8&nbsp;Y, T13&nbsp;G8&nbsp;X, F2&nbsp;B7&nbsp;Z, F2&nbsp;B7&nbsp;Y, F2&nbsp;B7&nbsp;X, F4&nbsp;B6&nbsp;Z, F4&nbsp;B6&nbsp;Y, F4&nbsp;B6&nbsp;X, F6&nbsp;B8&nbsp;Z, F6&nbsp;B8&nbsp;Y, F6&nbsp;B8&nbsp;X, F8&nbsp;B1&nbsp;Z, F8&nbsp;B1&nbsp;Y, F8&nbsp;B1&nbsp;X, F10&nbsp;B3&nbsp;Z, F10&nbsp;B3&nbsp;Y, F10&nbsp;B3&nbsp;X, F12&nbsp;D8&nbsp;Z, F12&nbsp;D8&nbsp;Y, F12&nbsp;D8&nbsp;X, C2&nbsp;B5&nbsp;Z, C2&nbsp;B5&nbsp;Y, C2&nbsp;B5&nbsp;X, C4&nbsp;D7&nbsp;Z, C4&nbsp;D7&nbsp;Y, C4&nbsp;D7&nbsp;X, C6&nbsp;D4&nbsp;Z, C6&nbsp;D4&nbsp;Y, C6&nbsp;D4&nbsp;X, C8&nbsp;F7&nbsp;Z, C8&nbsp;F7&nbsp;Y, C8&nbsp;F7&nbsp;X, P2&nbsp;F3&nbsp;Z, P2&nbsp;F3&nbsp;Y, P2&nbsp;F3&nbsp;X, P4&nbsp;D3&nbsp;Z, P4&nbsp;D3&nbsp;Y, P4&nbsp;D3&nbsp;X, P6&nbsp;F2&nbsp;Z, P6&nbsp;F2&nbsp;Y, P6&nbsp;F2&nbsp;X, P8&nbsp;F1&nbsp;Z, P8&nbsp;F1&nbsp;Y, P8&nbsp;F1&nbsp;X, P10&nbsp;F5&nbsp;Z, P10&nbsp;F5&nbsp;Y, P10&nbsp;F5&nbsp;X, P12&nbsp;F4&nbsp;Z, P12&nbsp;F4&nbsp;Y, P12&nbsp;F4&nbsp;X, O2&nbsp;H3&nbsp;Z, O2&nbsp;H3&nbsp;X, O4&nbsp;H8&nbsp;Z, O4&nbsp;H8&nbsp;Y, O4&nbsp;H8&nbsp;X, O6&nbsp;H1&nbsp;Z, O6&nbsp;H1&nbsp;Y, O6&nbsp;H1&nbsp;X, O8&nbsp;H5&nbsp;Z, O8&nbsp;H5&nbsp;Y, O8&nbsp;H5&nbsp;X, O10&nbsp;H7&nbsp;Z, O10&nbsp;H7&nbsp;Y, O10&nbsp;H7&nbsp;X, T2&nbsp;B2&nbsp;Z, T2&nbsp;B2&nbsp;Y, T2&nbsp;B2&nbsp;X, T4&nbsp;D1&nbsp;Z, T4&nbsp;D1&nbsp;Y, T4&nbsp;D1&nbsp;X, T6&nbsp;D6&nbsp;Z, T6&nbsp;D6&nbsp;Y, T6&nbsp;D6&nbsp;X, T8&nbsp;D2&nbsp;Z, T8&nbsp;D2&nbsp;Y, T8&nbsp;D2&nbsp;X, T10&nbsp;D5&nbsp;Z, T10&nbsp;D5&nbsp;Y, T10&nbsp;D5&nbsp;X, T12&nbsp;H2&nbsp;Z, T12&nbsp;H2&nbsp;Y, T12&nbsp;H2&nbsp;X, Fpz&nbsp;A2&nbsp;Z, Fpz&nbsp;A2&nbsp;Y, Fpz&nbsp;A2&nbsp;X, Fz&nbsp;A5&nbsp;Z, Fz&nbsp;A5&nbsp;Y, Fz&nbsp;A5&nbsp;X, FCz&nbsp;F6&nbsp;Z, FCz&nbsp;F6&nbsp;Y, FCz&nbsp;F6&nbsp;X, Cz&nbsp;E2&nbsp;Z, Cz&nbsp;E2&nbsp;Y, Cz&nbsp;E2&nbsp;X, Pz&nbsp;F8&nbsp;Z, Pz&nbsp;F8&nbsp;Y, Pz&nbsp;F8&nbsp;X, Oz&nbsp;G5&nbsp;Z, Oz&nbsp;G5&nbsp;Y, Oz&nbsp;G5&nbsp;X, Iz&nbsp;H4&nbsp;Z, Iz&nbsp;H4&nbsp;Y, Iz&nbsp;H4&nbsp;X')\" title=\"(Click to open in popup)&#13;&#13;F1&nbsp;A1&nbsp;Z, F1&nbsp;A1&nbsp;Y, F1&nbsp;A1&nbsp;X, F3&nbsp;A3&nbsp;Z, F3&nbsp;A3&nbsp;Y, F3&nbsp;A3&nbsp;X, F5&nbsp;A6&nbsp;Z, F5&nbsp;A6&nbsp;Y, F5&nbsp;A6&nbsp;X, F7&nbsp;C3&nbsp;Z, F7&nbsp;C3&nbsp;Y, F7&nbsp;C3&nbsp;X, F9&nbsp;A4&nbsp;Z, F9&nbsp;A4&nbsp;Y, F9&nbsp;A4&nbsp;X, F11&nbsp;A8&nbsp;Z, F11&nbsp;A8&nbsp;Y, F11&nbsp;A8&nbsp;X, C1&nbsp;A7&nbsp;Z, C1&nbsp;A7&nbsp;Y, C1&nbsp;A7&nbsp;X, C3&nbsp;C2&nbsp;Z, C3&nbsp;C2&nbsp;Y, C3&nbsp;C2&nbsp;X, C5&nbsp;C1&nbsp;Z, C5&nbsp;C1&nbsp;Y, C5&nbsp;C1&nbsp;X, C7&nbsp;E4&nbsp;Z, C7&nbsp;E4&nbsp;Y, C7&nbsp;E4&nbsp;X, P1&nbsp;E8&nbsp;Z, P1&nbsp;E8&nbsp;Y, P1&nbsp;E8&nbsp;X, P3&nbsp;E1&nbsp;Z, P3&nbsp;E1&nbsp;Y, P3&nbsp;E1&nbsp;X, P5&nbsp;C6&nbsp;Z, P5&nbsp;C6&nbsp;Y, P5&nbsp;C6&nbsp;X, P7&nbsp;E7&nbsp;Z, P7&nbsp;E7&nbsp;Y, P7&nbsp;E7&nbsp;X, P9&nbsp;E3&nbsp;Z, P9&nbsp;E3&nbsp;Y, P9&nbsp;E3&nbsp;X, P11&nbsp;E6&nbsp;Z, P11&nbsp;E6&nbsp;Y, P11&nbsp;E6&nbsp;X, O1&nbsp;E5&nbsp;Z, O1&nbsp;E5&nbsp;Y, O1&nbsp;E5&nbsp;X, O3&nbsp;G6&nbsp;Z, O3&nbsp;G6&nbsp;Y, O3&nbsp;G6&nbsp;X, O5&nbsp;G4&nbsp;Z, O5&nbsp;G4&nbsp;Y, O5&nbsp;G4&nbsp;X, O7&nbsp;G2&nbsp;Z, O7&nbsp;G2&nbsp;Y, O7&nbsp;G2&nbsp;X, O9&nbsp;G3&nbsp;Z, O9&nbsp;G3&nbsp;Y, T1&nbsp;C7&nbsp;Y, T1&nbsp;C7&nbsp;X, T3&nbsp;C4&nbsp;Z, T3&nbsp;C4&nbsp;Y, T3&nbsp;C4&nbsp;X, T5&nbsp;C5&nbsp;X, T7&nbsp;C8&nbsp;Z, T7&nbsp;C8&nbsp;Y, T7&nbsp;C8&nbsp;X, T9&nbsp;G1&nbsp;Z, T9&nbsp;G1&nbsp;Y, T9&nbsp;G1&nbsp;X, T11&nbsp;G7&nbsp;Z, T11&nbsp;G7&nbsp;X, T13&nbsp;G8&nbsp;Z, T13&nbsp;G8&nbsp;Y, T13&nbsp;G8&nbsp;X, F2&nbsp;B7&nbsp;Z, F2&nbsp;B7&nbsp;Y, F2&nbsp;B7&nbsp;X, F4&nbsp;B6&nbsp;Z, F4&nbsp;B6&nbsp;Y, F4&nbsp;B6&nbsp;X, F6&nbsp;B8&nbsp;Z, F6&nbsp;B8&nbsp;Y, F6&nbsp;B8&nbsp;X, F8&nbsp;B1&nbsp;Z, F8&nbsp;B1&nbsp;Y, F8&nbsp;B1&nbsp;X, F10&nbsp;B3&nbsp;Z, F10&nbsp;B3&nbsp;Y, F10&nbsp;B3&nbsp;X, F12&nbsp;D8&nbsp;Z, F12&nbsp;D8&nbsp;Y, F12&nbsp;D8&nbsp;X, C2&nbsp;B5&nbsp;Z, C2&nbsp;B5&nbsp;Y, C2&nbsp;B5&nbsp;X, C4&nbsp;D7&nbsp;Z, C4&nbsp;D7&nbsp;Y, C4&nbsp;D7&nbsp;X, C6&nbsp;D4&nbsp;Z, C6&nbsp;D4&nbsp;Y, C6&nbsp;D4&nbsp;X, C8&nbsp;F7&nbsp;Z, C8&nbsp;F7&nbsp;Y, C8&nbsp;F7&nbsp;X, P2&nbsp;F3&nbsp;Z, P2&nbsp;F3&nbsp;Y, P2&nbsp;F3&nbsp;X, P4&nbsp;D3&nbsp;Z, P4&nbsp;D3&nbsp;Y, P4&nbsp;D3&nbsp;X, P6&nbsp;F2&nbsp;Z, P6&nbsp;F2&nbsp;Y, P6&nbsp;F2&nbsp;X, P8&nbsp;F1&nbsp;Z, P8&nbsp;F1&nbsp;Y, P8&nbsp;F1&nbsp;X, P10&nbsp;F5&nbsp;Z, P10&nbsp;F5&nbsp;Y, P10&nbsp;F5&nbsp;X, P12&nbsp;F4&nbsp;Z, P12&nbsp;F4&nbsp;Y, P12&nbsp;F4&nbsp;X, O2&nbsp;H3&nbsp;Z, O2&nbsp;H3&nbsp;X, O4&nbsp;H8&nbsp;Z, O4&nbsp;H8&nbsp;Y, O4&nbsp;H8&nbsp;X, O6&nbsp;H1&nbsp;Z, O6&nbsp;H1&nbsp;Y, O6&nbsp;H1&nbsp;X, O8&nbsp;H5&nbsp;Z, O8&nbsp;H5&nbsp;Y, O8&nbsp;H5&nbsp;X, O10&nbsp;H7&nbsp;Z, O10&nbsp;H7&nbsp;Y, O10&nbsp;H7&nbsp;X, T2&nbsp;B2&nbsp;Z, T2&nbsp;B2&nbsp;Y, T2&nbsp;B2&nbsp;X, T4&nbsp;D1&nbsp;Z, T4&nbsp;D1&nbsp;Y, T4&nbsp;D1&nbsp;X, T6&nbsp;D6&nbsp;Z, T6&nbsp;D6&nbsp;Y, T6&nbsp;D6&nbsp;X, T8&nbsp;D2&nbsp;Z, T8&nbsp;D2&nbsp;Y, T8&nbsp;D2&nbsp;X, T10&nbsp;D5&nbsp;Z, T10&nbsp;D5&nbsp;Y, T10&nbsp;D5&nbsp;X, T12&nbsp;H2&nbsp;Z, T12&nbsp;H2&nbsp;Y, T12&nbsp;H2&nbsp;X, Fpz&nbsp;A2&nbsp;Z, Fpz&nbsp;A2&nbsp;Y, Fpz&nbsp;A2&nbsp;X, Fz&nbsp;A5&nbsp;Z, Fz&nbsp;A5&nbsp;Y, Fz&nbsp;A5&nbsp;X, FCz&nbsp;F6&nbsp;Z, FCz&nbsp;F6&nbsp;Y, FCz&nbsp;F6&nbsp;X, Cz&nbsp;E2&nbsp;Z, Cz&nbsp;E2&nbsp;Y, Cz&nbsp;E2&nbsp;X, Pz&nbsp;F8&nbsp;Z, Pz&nbsp;F8&nbsp;Y, Pz&nbsp;F8&nbsp;X, Oz&nbsp;G5&nbsp;Z, Oz&nbsp;G5&nbsp;Y, Oz&nbsp;G5&nbsp;X, Iz&nbsp;H4&nbsp;Z, Iz&nbsp;H4&nbsp;Y, Iz&nbsp;H4&nbsp;X\">\n",
       "            180\n",
       "        </button>\n",
       "\n",
       "        \n",
       "    </td>\n",
       "</tr>\n",
       "\n",
       "\n",
       "<tr class=\"repr-element channels-372946e5-165d-4ed9-ab22-ce1bbab57c6d \">\n",
       "    <td class=\"mne-repr-section-toggle\"></td>\n",
       "    <td>Head & sensor digitization</td>\n",
       "    \n",
       "    <td>15603 points</td>\n",
       "    \n",
       "</tr>\n",
       "    \n",
       "\n",
       "\n",
       "\n",
       "\n",
       "\n",
       "\n",
       "\n",
       "<tr class=\"mne-repr-section-header filters-81928429-47cc-43e4-9d4d-b2d2e4d416c7\"\n",
       "     title=\"Hide section\" \n",
       "    onclick=\"toggleVisibility('filters-81928429-47cc-43e4-9d4d-b2d2e4d416c7')\">\n",
       "    <th class=\"mne-repr-section-toggle\">\n",
       "        <button >\n",
       "            <svg xmlns=\"http://www.w3.org/2000/svg\" viewBox=\"0 0 512 512\"><!--!Font Awesome Free 6.6.0 by @fontawesome - https://fontawesome.com License - https://fontawesome.com/license/free Copyright 2024 Fonticons, Inc.--><path d=\"M233.4 406.6c12.5 12.5 32.8 12.5 45.3 0l192-192c12.5-12.5 12.5-32.8 0-45.3s-32.8-12.5-45.3 0L256 338.7 86.6 169.4c-12.5-12.5-32.8-12.5-45.3 0s-12.5 32.8 0 45.3l192 192z\"/></svg>\n",
       "        </button>\n",
       "    </th>\n",
       "    <th colspan=\"2\">\n",
       "        <strong>Filters</strong>\n",
       "    </th>\n",
       "</tr>\n",
       "\n",
       "\n",
       "<tr class=\"repr-element filters-81928429-47cc-43e4-9d4d-b2d2e4d416c7 \">\n",
       "    <td class=\"mne-repr-section-toggle\"></td>\n",
       "    <td>Highpass</td>\n",
       "    <td>3.00 Hz</td>\n",
       "</tr>\n",
       "\n",
       "\n",
       "<tr class=\"repr-element filters-81928429-47cc-43e4-9d4d-b2d2e4d416c7 \">\n",
       "    <td class=\"mne-repr-section-toggle\"></td>\n",
       "    <td>Lowpass</td>\n",
       "    <td>30.00 Hz</td>\n",
       "</tr>\n",
       "\n",
       "\n",
       "<tr class=\"repr-element filters-81928429-47cc-43e4-9d4d-b2d2e4d416c7 \">\n",
       "    <td class=\"mne-repr-section-toggle\"></td>\n",
       "    <td>Projections</td>\n",
       "    <td>\n",
       "        \n",
       "        HFC: l=1 m=-1 (on)\n",
       "        <br />\n",
       "        \n",
       "        HFC: l=1 m=0 (on)\n",
       "        <br />\n",
       "        \n",
       "        HFC: l=1 m=1 (on)\n",
       "        <br />\n",
       "        \n",
       "        HFC: l=2 m=-2 (on)\n",
       "        <br />\n",
       "        \n",
       "        HFC: l=2 m=-1 (on)\n",
       "        <br />\n",
       "        \n",
       "        HFC: l=2 m=0 (on)\n",
       "        <br />\n",
       "        \n",
       "        HFC: l=2 m=1 (on)\n",
       "        <br />\n",
       "        \n",
       "        HFC: l=2 m=2 (on)\n",
       "        \n",
       "        \n",
       "    </td>\n",
       "</tr>\n",
       "\n",
       "</table>"
      ],
      "text/plain": [
       "<Raw | sub-01_ses-01_task-SpAtt_run-01_ann_raw.fif, 180 x 513269 (2053.1 s), ~710.5 MiB, data loaded>"
      ]
     },
     "execution_count": 3,
     "metadata": {},
     "output_type": "execute_result"
    }
   ],
   "source": [
    "# Read the raw data from the BIDS path\n",
    "raw = read_raw_bids(bids_path=bids_path, extra_params={'preload': True}, verbose=True)\n",
    "\n",
    "# Process the raw data\n",
    "raw_resmpl = raw.copy().pick('mag')  \n",
    "raw_resmpl.filter(3, 30)  \n",
    "raw_resmpl.resample(250)  \n"
   ]
  },
  {
   "cell_type": "markdown",
   "id": "4c08441c-2a35-49c6-8c0a-7b080fba6256",
   "metadata": {},
   "source": [
    "\n",
    "## Applying the ICA algorithm\n",
    "\n",
    "Now,the ICA algorithm will be applied. The **fastICA** algorithm is chosen as it is well-established and widely used. However, other ICA methods are available in MNE-Python. To expedite the computation, a Principal Component Analysis is used to reduce the data to 30 dimensions. \n"
   ]
  },
  {
   "cell_type": "code",
   "execution_count": 4,
   "id": "9ef3b6f7-f49f-48e7-bda2-f7110d2022ed",
   "metadata": {},
   "outputs": [
    {
     "data": {
      "text/html": [
       "<table class=\"table mne-repr-table\">\n",
       "    <tr>\n",
       "        <th>Method</th>\n",
       "        <td>fastica</td>\n",
       "    </tr>\n",
       "    <tr>\n",
       "        <th>Fit parameters</th>\n",
       "        <td>algorithm=parallel<br />fun=logcosh<br />fun_args=None<br />max_iter=1000<br /></td>\n",
       "    </tr>\n",
       "    <tr>\n",
       "        <th>Fit</th>\n",
       "        <td>59 iterations on raw data (507569 samples)</td>\n",
       "    </tr>\n",
       "    \n",
       "    <tr>\n",
       "        <th>ICA components</th>\n",
       "        <td>30</td>\n",
       "    </tr>\n",
       "    <tr>\n",
       "        <th>Available PCA components</th>\n",
       "        <td>180</td>\n",
       "    </tr>\n",
       "    <tr>\n",
       "        <th>Channel types</th>\n",
       "        <td>mag</td>\n",
       "    </tr>\n",
       "    <tr>\n",
       "        <th>ICA components marked for exclusion</th>\n",
       "        <td>&mdash;</td>\n",
       "    </tr>\n",
       "    \n",
       "</table>"
      ],
      "text/plain": [
       "<ICA | raw data decomposition, method: fastica (fit in 59 iterations on 507569 samples), 30 ICA components (180 PCA components available), channel types: mag, no sources marked for exclusion>"
      ]
     },
     "execution_count": 4,
     "metadata": {},
     "output_type": "execute_result"
    }
   ],
   "source": [
    "raw_resmpl_all = raw_resmpl\n",
    "ica = ICA(method='fastica',\n",
    "    random_state=96,\n",
    "    n_components=30,\n",
    "    verbose=False)\n",
    "\n",
    "ica.fit(raw_resmpl_all,\n",
    "    verbose=False,\n",
    "       picks='meg')"
   ]
  },
  {
   "cell_type": "markdown",
   "id": "f37b4ffe-ce29-41bf-a366-5af8dc2b570b",
   "metadata": {},
   "source": [
    "\n",
    "## Identifying the ICA components reflecting the artefacts\n",
    "\n",
    "To plot the examples for the time-traces of the ICA components use:\n"
   ]
  },
  {
   "cell_type": "code",
   "execution_count": 5,
   "id": "e00ce0ff-4848-433e-b683-875873266187",
   "metadata": {},
   "outputs": [
    {
     "name": "stdout",
     "output_type": "stream",
     "text": [
      "    Applying projection operator with 8 vectors (pre-whitener application)\n",
      "Creating RawArray with float64 data, n_channels=30, n_times=513269\n",
      "    Range : 0 ... 513268 =      0.000 ...  2053.072 secs\n",
      "Ready.\n",
      "Using qt as 2D backend.\n",
      "Using pyopengl with version 3.1.6\n"
     ]
    },
    {
     "name": "stderr",
     "output_type": "stream",
     "text": [
      "/Users/o.jensen@bham.ac.uk/Applications/MNE-Python/1.9.0_0/.mne-python/lib/python3.12/site-packages/mne_qt_browser/_pg_figure.py:3061: RuntimeWarning: Failed to disconnect (None) from signal \"triggered()\".\n",
      "  sig.disconnect()\n"
     ]
    }
   ],
   "source": [
    "%matplotlib inline\n",
    "ica.plot_sources(raw_resmpl_all, title='ICA');"
   ]
  },
  {
   "cell_type": "markdown",
   "id": "3e38d954-7491-4f62-b375-2c9b37308598",
   "metadata": {},
   "source": [
    "This script will open an interactive session. Use the left/right arrow-keys to scroll through the data and the up/down arrow-keys to scroll through the components. \n",
    "\n",
    "Please see an example below. "
   ]
  },
  {
   "cell_type": "code",
   "execution_count": 6,
   "id": "4102f1ae-201c-4c2f-9465-6b3d09b64ad1",
   "metadata": {},
   "outputs": [
    {
     "data": {
      "text/html": [
       "<img src=\"https://github.com/FLUX-pipeline/Cerca/blob/main/ICAexample.png?raw=true\"/>"
      ],
      "text/plain": [
       "<IPython.core.display.Image object>"
      ]
     },
     "metadata": {},
     "output_type": "display_data"
    }
   ],
   "source": [
    "image_url = 'https://github.com/FLUX-pipeline/Cerca/blob/main/ICAexample.png?raw=true'\n",
    "display(Image(url=image_url))"
   ]
  },
  {
   "cell_type": "markdown",
   "id": "88ba0db2-163b-48ca-bdf3-549ba85d8363",
   "metadata": {},
   "source": [
    "From this example, it is clear that ICA component 6 reflects eye blinks. It is also evident that component 18 reflects cardiac artefacts, as the QRS complex is clearly visible with a rate of about 1 Hz.  \n",
    "\n",
    "Note that the order of the components can change depending on the hardware used (the components 6 and 18 were observed in a Mac, whereas as Microsoft PC produced the components 6 and 11)\n",
    "\n",
    "**Question 1:** Muscular artefacts do not seem to collected in a single ICA component. Why might that be?\n"
   ]
  },
  {
   "cell_type": "markdown",
   "id": "26d2bc79-0686-4daa-a46f-938c0dbbb74c",
   "metadata": {},
   "source": [
    "## Attenuating ocular and cardiac artefacts by applying the projections"
   ]
  },
  {
   "cell_type": "markdown",
   "id": "3097deb6-48d4-4018-9d38-aba3fb9d18bc",
   "metadata": {},
   "source": [
    "Now the ICA components associated with ocular and cardiac artefacts are detected, hence it must be 'projected out'. This will be done by applying the ICA projections generated by ica.exclude to the original raw data, which will be loaded again. After the ICA projections have been applied *(ica.apply)* the data will be saved."
   ]
  },
  {
   "cell_type": "code",
   "execution_count": 7,
   "id": "866f5bed-6b5c-4d60-987d-88cfabe6c41f",
   "metadata": {},
   "outputs": [
    {
     "name": "stdout",
     "output_type": "stream",
     "text": [
      "Opening raw data file /Users/o.jensen@bham.ac.uk/Data/CercaOxf/fif/Cerca_Spatt_BIDS/derivatives/preprocessing/sub-01/ses-01/meg/sub-01_ses-01_task-SpAtt_run-01_ann_raw.fif...\n",
      "    Read a total of 8 projection items:\n",
      "        HFC: l=1 m=-1 (1 x 180) active\n",
      "        HFC: l=1 m=0 (1 x 180) active\n",
      "        HFC: l=1 m=1 (1 x 180) active\n",
      "        HFC: l=2 m=-2 (1 x 180) active\n",
      "        HFC: l=2 m=-1 (1 x 180) active\n",
      "        HFC: l=2 m=0 (1 x 180) active\n",
      "        HFC: l=2 m=1 (1 x 180) active\n",
      "        HFC: l=2 m=2 (1 x 180) active\n",
      "    Range : 0 ... 1539807 =      0.000 ...  2053.076 secs\n",
      "Ready.\n",
      "Reading 0 ... 1539807  =      0.000 ...  2053.076 secs...\n",
      "Applying ICA to Raw instance\n"
     ]
    },
    {
     "name": "stderr",
     "output_type": "stream",
     "text": [
      "/var/folders/n0/w7vb4jpn0nx3hs95f4p7r9br0000gr/T/ipykernel_75707/625699223.py:4: RuntimeWarning: Did not find any events.tsv associated with sub-01_ses-01_task-SpAtt_run-01.\n",
      "\n",
      "The search_str was \"/Users/o.jensen@bham.ac.uk/Data/CercaOxf/fif/Cerca_Spatt_BIDS/derivatives/preprocessing/sub-01/**/meg/sub-01_ses-01*events.tsv\"\n",
      "  raw_ica = read_raw_bids(bids_path=bids_path,extra_params={'preload':True},verbose=True)\n",
      "/var/folders/n0/w7vb4jpn0nx3hs95f4p7r9br0000gr/T/ipykernel_75707/625699223.py:4: RuntimeWarning: Did not find any channels.tsv associated with sub-01_ses-01_task-SpAtt_run-01.\n",
      "\n",
      "The search_str was \"/Users/o.jensen@bham.ac.uk/Data/CercaOxf/fif/Cerca_Spatt_BIDS/derivatives/preprocessing/sub-01/**/meg/sub-01_ses-01*channels.tsv\"\n",
      "  raw_ica = read_raw_bids(bids_path=bids_path,extra_params={'preload':True},verbose=True)\n",
      "/var/folders/n0/w7vb4jpn0nx3hs95f4p7r9br0000gr/T/ipykernel_75707/625699223.py:4: RuntimeWarning: Did not find any meg.json associated with sub-01_ses-01_task-SpAtt_run-01.\n",
      "\n",
      "The search_str was \"/Users/o.jensen@bham.ac.uk/Data/CercaOxf/fif/Cerca_Spatt_BIDS/derivatives/preprocessing/sub-01/**/meg/sub-01_ses-01*meg.json\"\n",
      "  raw_ica = read_raw_bids(bids_path=bids_path,extra_params={'preload':True},verbose=True)\n",
      "/var/folders/n0/w7vb4jpn0nx3hs95f4p7r9br0000gr/T/ipykernel_75707/625699223.py:4: RuntimeWarning: participants.tsv file not found for /Users/o.jensen@bham.ac.uk/Data/CercaOxf/fif/Cerca_Spatt_BIDS/derivatives/preprocessing/sub-01/ses-01/meg/sub-01_ses-01_task-SpAtt_run-01_ann_raw.fif\n",
      "  raw_ica = read_raw_bids(bids_path=bids_path,extra_params={'preload':True},verbose=True)\n"
     ]
    },
    {
     "name": "stdout",
     "output_type": "stream",
     "text": [
      "    Applying projection operator with 8 vectors (pre-whitener application)\n",
      "    Transforming to ICA space (30 components)\n",
      "    Zeroing out 2 ICA components\n",
      "    Projecting back using 180 PCA components\n",
      "Writing /Users/o.jensen@bham.ac.uk/Data/CercaOxf/fif/Cerca_Spatt_BIDS/derivatives/preprocessing/sub-01/ses-01/meg/sub-01_ses-01_task-SpAtt_run-01_ica_raw.fif\n",
      "Closing /Users/o.jensen@bham.ac.uk/Data/CercaOxf/fif/Cerca_Spatt_BIDS/derivatives/preprocessing/sub-01/ses-01/meg/sub-01_ses-01_task-SpAtt_run-01_ica_raw.fif\n",
      "[done]\n"
     ]
    },
    {
     "data": {
      "text/plain": [
       "[PosixPath('/Users/o.jensen@bham.ac.uk/Data/CercaOxf/fif/Cerca_Spatt_BIDS/derivatives/preprocessing/sub-01/ses-01/meg/sub-01_ses-01_task-SpAtt_run-01_ica_raw.fif')]"
      ]
     },
     "execution_count": 7,
     "metadata": {},
     "output_type": "execute_result"
    }
   ],
   "source": [
    "# Set the 2 components to exclude\n",
    "ica.exclude = [6,11]\n",
    "\n",
    "raw_ica = read_raw_bids(bids_path=bids_path,extra_params={'preload':True},verbose=True)\n",
    "ica.apply(raw_ica)\n",
    "\n",
    "raw_ica.save(deriv_fname_fif, overwrite=True)"
   ]
  },
  {
   "cell_type": "markdown",
   "id": "1a0bb945-d2e1-43c6-8ef8-e3e6e43e87be",
   "metadata": {},
   "source": [
    "\n",
    "## Plotting the data to check the artefact reduction\n",
    "\n",
    "We will here examine some of the traces to demonstrate the artefact reduction.\n",
    "\n",
    "Define a few frontal OPM sensors to examine"
   ]
  },
  {
   "cell_type": "markdown",
   "id": "94d444da-489e-44ef-82e8-5652663c9e2a",
   "metadata": {},
   "source": [
    "For the sake of understanding sensor-positions will be plotted in a topographic representation"
   ]
  },
  {
   "cell_type": "code",
   "execution_count": 8,
   "id": "4c52def7-7e34-48af-b553-5d67beb2904a",
   "metadata": {},
   "outputs": [
    {
     "data": {
      "image/png": "[encoded data removed]",
      "text/plain": [
       "<Figure size 640x640 with 1 Axes>"
      ]
     },
     "metadata": {},
     "output_type": "display_data"
    }
   ],
   "source": [
    "raw_ica.plot_sensors(kind='topomap', show_names=True);"
   ]
  },
  {
   "cell_type": "markdown",
   "id": "bfd14e86-3cb8-4ada-a881-8c80fbe45efc",
   "metadata": {},
   "source": [
    "Frontal sensors 'F9 A4 Z' happens to be sensitive to eye-blicks. "
   ]
  },
  {
   "cell_type": "code",
   "execution_count": 9,
   "id": "0ab8bde5-5a9f-4f92-9645-6ee571bc3b76",
   "metadata": {},
   "outputs": [
    {
     "data": {
      "image/png": "[encoded data removed]",
      "text/plain": [
       "<Figure size 640x480 with 1 Axes>"
      ]
     },
     "metadata": {},
     "output_type": "display_data"
    }
   ],
   "source": [
    "picks = mne.pick_types(raw.info, include=['F9 A4 Z'])\n",
    "\n",
    "amp_scale = 1e12  # Converting to pico Tesla(pT)\n",
    "\n",
    "data_ds, time_ds = raw[picks]\n",
    "dataICA_ds, timeICA_ds = raw_ica[picks]\n",
    "\n",
    "plt.plot(time_ds, amp_scale*data_ds.T,label='before ICA')\n",
    "plt.plot(timeICA_ds, amp_scale*dataICA_ds.T,label='after ICA');\n",
    "plt.legend()\n",
    "plt.xlim(1130, 1160)\n",
    "plt.ylim(-20, 20)\n",
    "\n",
    "plt.xlabel('Time (s)'); \n",
    "plt.ylabel('Amplitude (pT)');"
   ]
  },
  {
   "cell_type": "markdown",
   "id": "18fa6158-2973-4fd9-bafb-635f7a4cf2ea",
   "metadata": {},
   "source": [
    "In the plot above, it is clear the ICA serve to effectively reduce the eye-blink artefacts. "
   ]
  },
  {
   "cell_type": "markdown",
   "id": "fb866e42-8b7d-411f-a61a-09e7d28292ef",
   "metadata": {},
   "source": [
    "## Preregistration and Publication"
   ]
  },
  {
   "cell_type": "markdown",
   "id": "e329fa70-9e0e-4ba5-bbb0-2d0c892901d6",
   "metadata": {},
   "source": [
    "Example text:\n",
    "\"The data were down sampled to 250 Hz prior to Independent Component Analysis (ICA) and bandpass filtered at 1 – 40 Hz. Next the fastICA algorithm (`Hyvärinen and Oja, 2000`) was applied to the segmented data as implemented in MNE Python. Components containing cardiac artefacts and eyeblinks (identified in time course and topographies of the ICA components) were removed in each subject (2 – 5 over subjects) in the raw  data. \""
   ]
  },
  {
   "cell_type": "markdown",
   "id": "e1edb01c-1d65-4b31-8f13-b6c56bf7997f",
   "metadata": {},
   "source": [
    "\n",
    "## References\n",
    "\n",
    "[Hyvärinen & Oja, 2002]: Hyvärinen, A., & Oja, E. (2002). Independent component analysis: algorithms and applications. *Neural Networks*, 13(4–5), 411–430. https://doi.org/10.1016/s0893-6080(00)00026-5\n",
    "\n",
    "\n"
   ]
  },
  {
   "cell_type": "code",
   "execution_count": null,
   "id": "3d750056-cd00-461d-b0f8-281e705ab3b8",
   "metadata": {},
   "outputs": [],
   "source": []
  }
 ],
 "metadata": {
  "kernelspec": {
   "display_name": "Python 3 (ipykernel)",
   "language": "python",
   "name": "python3"
  },
  "language_info": {
   "codemirror_mode": {
    "name": "ipython",
    "version": 3
   },
   "file_extension": ".py",
   "mimetype": "text/x-python",
   "name": "python",
   "nbconvert_exporter": "python",
   "pygments_lexer": "ipython3",
   "version": "3.12.7"
  }
 },
 "nbformat": 4,
 "nbformat_minor": 5
}
