{
 "cells": [
  {
   "cell_type": "markdown",
   "id": "12700436-6fd0-48f7-aa30-e4c9b5399a62",
   "metadata": {},
   "source": [
    "# **Annotation of artefacts**"
   ]
  },
  {
   "cell_type": "markdown",
   "id": "75f68cdf-d5ab-49e0-942e-6ac74c4cae99",
   "metadata": {},
   "source": [
    "## Introduction\n",
    "\n",
    "This chapter will show how artefacts can be identified and then annotated. The annotations will be encoded in the FIF data file. Sections or trials will not be rejected at this stage; rather, the annotations may be used later. For instance, they can be used to reject trials with eyeblinks or muscle contractions depending on their relevance for the analysis.\n"
   ]
  },
  {
   "cell_type": "markdown",
   "id": "8dff66c1-0c30-43e2-ad65-2760d29d5bd0",
   "metadata": {},
   "source": [
    "## Preparations"
   ]
  },
  {
   "cell_type": "markdown",
   "id": "b5ba44ee-d147-4973-b3d2-1476ac7820fd",
   "metadata": {},
   "source": [
    "### Import the necessary modules\n",
    "\n",
    "Below are the required Python modules\n"
   ]
  },
  {
   "cell_type": "code",
   "execution_count": 1,
   "id": "2d46669f-5f2f-461d-868d-e06c46c3fe29",
   "metadata": {},
   "outputs": [],
   "source": [
    "import mne\n",
    "import os\n",
    "import numpy as np\n",
    "import matplotlib.pyplot as plt\n",
    "import array\n",
    "import os.path as op\n",
    "from mne_bids import (\n",
    "    BIDSPath,\n",
    "    read_raw_bids\n",
    ")\n",
    "from mne.preprocessing import annotate_muscle_zscore"
   ]
  },
  {
   "cell_type": "markdown",
   "id": "3cbd4b0f-a749-4fca-9534-c54d6e6a1bce",
   "metadata": {},
   "source": [
    "### File overview\n",
    "\n",
    "The chapter relies on the input files (embedded in the BIDS structure):\n",
    "```\n",
    "< BIDS_ROOT >/derivatives/Preprocessing/sub-01/ses-01/meg/sub-01_ses-01_task-SpAtt_run-01_hfc_raw.fif\n",
    "```\n",
    "\n",
    "and generates the output files:\n",
    "\n",
    "```\n",
    "< BIDS_ROOT >/derivatives/Preprocessing/sub-01/ses-01/meg/sub-01_ses-01_task-SpAtt_run-01_ann_raw.fif\n",
    "< BIDS_ROOT >/derivatives/Preprocessing/sub-01/ses-01/meg/sub-01_ses-01_task-SpAtt_run-01_ann_raw.csv\n",
    "\n",
    "```"
   ]
  },
  {
   "cell_type": "markdown",
   "id": "2ab5bcc2-d6e4-4772-b32e-17e0f7c02761",
   "metadata": {},
   "source": [
    "### Loading the BIDS data\n",
    "\n",
    "Specify the parameters allowing for defining the path for the BIDS path\n"
   ]
  },
  {
   "cell_type": "code",
   "execution_count": 2,
   "id": "3cc81318-e29c-4362-98fc-25fec9852987",
   "metadata": {},
   "outputs": [
    {
     "name": "stdout",
     "output_type": "stream",
     "text": [
      "/Users/o.jensen@bham.ac.uk/Data/CercaOxf/fif/Cerca_Spatt_BIDS/derivatives/preprocessing/sub-01/ses-01/meg/sub-01_ses-01_task-SpAtt_run-01_hfc_raw.fif\n",
      "/Users/o.jensen@bham.ac.uk/Data/CercaOxf/fif/Cerca_Spatt_BIDS/derivatives/preprocessing/sub-01/ses-01/meg/sub-01_ses-01_task-SpAtt_run-01_ann_raw.fif\n",
      "/Users/o.jensen@bham.ac.uk/Data/CercaOxf/fif/Cerca_Spatt_BIDS/derivatives/preprocessing/sub-01/ses-01/meg/sub-01_ses-01_task-SpAtt_run-01_ann_raw.csv\n"
     ]
    }
   ],
   "source": [
    "subject = '01'\n",
    "session = '01'\n",
    "task = 'SpAtt'\n",
    "run = '01'\n",
    "meg_suffix = 'meg'\n",
    "hfc_suffix = 'hfc_raw'\n",
    "ann_suffix = 'ann_raw'\n",
    "\n",
    "# data_path='C:/Users/rakshita/Documents/Cerca_raw_files'\n",
    "data_path = '/Users/o.jensen@bham.ac.uk/Data/CercaOxf/fif'\n",
    "\n",
    "bids_root = op.join(data_path, \"Cerca_Spatt_BIDS\")\n",
    "deriv_root = op.join(bids_root, \"derivatives/preprocessing\")\n",
    "\n",
    "bids_path = BIDSPath(subject=subject, session=session, datatype='meg',\n",
    "            task=task, run=run, suffix=hfc_suffix, \n",
    "            root=deriv_root, extension='.fif', check=False)\n",
    "\n",
    "deriv_fname = bids_path.basename.replace(hfc_suffix, ann_suffix) # fif output filename\n",
    "deriv_fname_fif = op.join(bids_path.directory, deriv_fname)\n",
    "\n",
    "deriv_fname_csv = deriv_fname_fif.replace('.fif', '.csv') # csv output filename\n",
    "\n",
    "print(bids_path)\n",
    "print(deriv_fname_fif)\n",
    "print(deriv_fname_csv)"
   ]
  },
  {
   "cell_type": "markdown",
   "id": "a1d44490-b55e-499d-8f4d-3305b210fb97",
   "metadata": {},
   "source": [
    "Read the raw data"
   ]
  },
  {
   "cell_type": "code",
   "execution_count": 3,
   "id": "f72879bc-aeda-4812-a882-a91cf042168f",
   "metadata": {},
   "outputs": [
    {
     "name": "stdout",
     "output_type": "stream",
     "text": [
      "Opening raw data file /Users/o.jensen@bham.ac.uk/Data/CercaOxf/fif/Cerca_Spatt_BIDS/derivatives/preprocessing/sub-01/ses-01/meg/sub-01_ses-01_task-SpAtt_run-01_hfc_raw.fif...\n",
      "    Read a total of 8 projection items:\n",
      "        HFC: l=1 m=-1 (1 x 180) active\n",
      "        HFC: l=1 m=0 (1 x 180) active\n",
      "        HFC: l=1 m=1 (1 x 180) active\n",
      "        HFC: l=2 m=-2 (1 x 180) active\n",
      "        HFC: l=2 m=-1 (1 x 180) active\n",
      "        HFC: l=2 m=0 (1 x 180) active\n",
      "        HFC: l=2 m=1 (1 x 180) active\n",
      "        HFC: l=2 m=2 (1 x 180) active\n",
      "    Range : 0 ... 1539807 =      0.000 ...  2053.076 secs\n",
      "Ready.\n",
      "Reading 0 ... 1539807  =      0.000 ...  2053.076 secs...\n"
     ]
    },
    {
     "name": "stderr",
     "output_type": "stream",
     "text": [
      "/var/folders/n0/w7vb4jpn0nx3hs95f4p7r9br0000gr/T/ipykernel_75510/1492964947.py:1: RuntimeWarning: Did not find any events.tsv associated with sub-01_ses-01_task-SpAtt_run-01.\n",
      "\n",
      "The search_str was \"/Users/o.jensen@bham.ac.uk/Data/CercaOxf/fif/Cerca_Spatt_BIDS/derivatives/preprocessing/sub-01/**/meg/sub-01_ses-01*events.tsv\"\n",
      "  raw = read_raw_bids(bids_path=bids_path, extra_params={'preload':True}, verbose=True)\n",
      "/var/folders/n0/w7vb4jpn0nx3hs95f4p7r9br0000gr/T/ipykernel_75510/1492964947.py:1: RuntimeWarning: Did not find any channels.tsv associated with sub-01_ses-01_task-SpAtt_run-01.\n",
      "\n",
      "The search_str was \"/Users/o.jensen@bham.ac.uk/Data/CercaOxf/fif/Cerca_Spatt_BIDS/derivatives/preprocessing/sub-01/**/meg/sub-01_ses-01*channels.tsv\"\n",
      "  raw = read_raw_bids(bids_path=bids_path, extra_params={'preload':True}, verbose=True)\n",
      "/var/folders/n0/w7vb4jpn0nx3hs95f4p7r9br0000gr/T/ipykernel_75510/1492964947.py:1: RuntimeWarning: Did not find any meg.json associated with sub-01_ses-01_task-SpAtt_run-01.\n",
      "\n",
      "The search_str was \"/Users/o.jensen@bham.ac.uk/Data/CercaOxf/fif/Cerca_Spatt_BIDS/derivatives/preprocessing/sub-01/**/meg/sub-01_ses-01*meg.json\"\n",
      "  raw = read_raw_bids(bids_path=bids_path, extra_params={'preload':True}, verbose=True)\n",
      "/var/folders/n0/w7vb4jpn0nx3hs95f4p7r9br0000gr/T/ipykernel_75510/1492964947.py:1: RuntimeWarning: participants.tsv file not found for /Users/o.jensen@bham.ac.uk/Data/CercaOxf/fif/Cerca_Spatt_BIDS/derivatives/preprocessing/sub-01/ses-01/meg/sub-01_ses-01_task-SpAtt_run-01_hfc_raw.fif\n",
      "  raw = read_raw_bids(bids_path=bids_path, extra_params={'preload':True}, verbose=True)\n"
     ]
    }
   ],
   "source": [
    "raw = read_raw_bids(bids_path=bids_path, extra_params={'preload':True}, verbose=True)"
   ]
  },
  {
   "cell_type": "markdown",
   "id": "9581512d-74f4-4178-83d5-6ea94953bafb",
   "metadata": {},
   "source": [
    "Comment from OJ: events.tsv channels.tsv etc are not found here. I guess this is beacause the raw is stored as a derivative?"
   ]
  },
  {
   "cell_type": "markdown",
   "id": "bd219efe-dea8-40ad-8677-e5ba6f86efc1",
   "metadata": {},
   "source": [
    "## Detecting eye blink artefacts in the OPM sensors\n",
    "\n",
    "Artefacts related to eye blinks can automatically be detected from signals in the OPM sensors. This is done without relying on EOG recordings, as typically done in EEG studies and sometimes in conventional MEG studies. Here eye blinks will be identified by subtracting signals from two frontal OPM sensors placed close the eyes:\n",
    "\n",
    "- F9 A4 Z  \n",
    "- F10 B3 Z\n",
    "\n",
    "To approximate an EOG signal, the difference between these two frontal channels is computed. The resulting signal is then assigned to `Trigger 2`, effectively acting as an ocular channel.\n",
    "\n",
    "OJ QUESTION: Why Trigger 2 and not one of the BNC channels?\n",
    "\n",
    "After applying a 1 - 10 Hz bandpass filter to isolate the components associated with ocular artefacts, the detection threshold for blinks is defined as:\n",
    "\n",
    "$$\n",
    "\\text{Threshold} \\approx \\frac{\\max(\\text{Trigger 2}) - \\min(\\text{Trigger 2})}{4}\n",
    "$$\n",
    "\n",
    "A blink is identified when the signal on `Trigger 2` exceeds this threshold. Once a blink is detected, a corresponding segment of data is marked (annotated) as a blink artefact. Each annotated segment is 500 ms long, starting 250 ms before the threshold is crossed.\n",
    "\n",
    "To define the eyeblink specific signal write:"
   ]
  },
  {
   "cell_type": "code",
   "execution_count": 1,
   "id": "23faf11d-48ed-4035-ad06-29d5b8b8fda9",
   "metadata": {},
   "outputs": [
    {
     "ename": "NameError",
     "evalue": "name 'raw' is not defined",
     "output_type": "error",
     "traceback": [
      "\u001b[1;31m---------------------------------------------------------------------------\u001b[0m",
      "\u001b[1;31mNameError\u001b[0m                                 Traceback (most recent call last)",
      "Cell \u001b[1;32mIn[1], line 2\u001b[0m\n\u001b[0;32m      1\u001b[0m \u001b[38;5;66;03m# Extract data from the two frontal OPM channels\u001b[39;00m\n\u001b[1;32m----> 2\u001b[0m ch1_data \u001b[38;5;241m=\u001b[39m raw\u001b[38;5;241m.\u001b[39mcopy()\u001b[38;5;241m.\u001b[39mpick_channels([\u001b[38;5;124m'\u001b[39m\u001b[38;5;124mF9 A4 Z\u001b[39m\u001b[38;5;124m'\u001b[39m])\u001b[38;5;241m.\u001b[39mget_data()[\u001b[38;5;241m0\u001b[39m]\n\u001b[0;32m      3\u001b[0m ch2_data \u001b[38;5;241m=\u001b[39m raw\u001b[38;5;241m.\u001b[39mcopy()\u001b[38;5;241m.\u001b[39mpick_channels([\u001b[38;5;124m'\u001b[39m\u001b[38;5;124mF10 B3 Z\u001b[39m\u001b[38;5;124m'\u001b[39m])\u001b[38;5;241m.\u001b[39mget_data()[\u001b[38;5;241m0\u001b[39m]\n\u001b[0;32m      5\u001b[0m \u001b[38;5;66;03m# The differential signal (Left -Right)\u001b[39;00m\n",
      "\u001b[1;31mNameError\u001b[0m: name 'raw' is not defined"
     ]
    }
   ],
   "source": [
    "# Extract data from the two frontal OPM channels\n",
    "ch1_data = raw.copy().pick_channels(['F9 A4 Z']).get_data()[0]\n",
    "ch2_data = raw.copy().pick_channels(['F10 B3 Z']).get_data()[0]\n",
    "\n",
    "# The differential signal (Left -Right)\n",
    "occ_signal = ch1_data - ch2_data\n",
    "\n",
    "# Assign EOG data to Trigger 2\n",
    "raw._data[raw.ch_names.index('Trigger 2')] = occ_signal"
   ]
  },
  {
   "cell_type": "markdown",
   "id": "823ea5b6-5bd6-4cd5-94ba-72f7708b535d",
   "metadata": {},
   "source": [
    "To get a better understanding of the signal, plot 10 s as an example"
   ]
  },
  {
   "cell_type": "code",
   "execution_count": 5,
   "id": "9a8fab0c-2af5-4767-9ead-ff8bc3aa7d97",
   "metadata": {},
   "outputs": [
    {
     "data": {
      "text/plain": [
       "Text(0.5, 1.0, 'Putative occular signal')"
      ]
     },
     "execution_count": 5,
     "metadata": {},
     "output_type": "execute_result"
    },
    {
     "data": {
      "image/png": "[encoded data removed]",
      "text/plain": [
       "<Figure size 640x480 with 1 Axes>"
      ]
     },
     "metadata": {},
     "output_type": "display_data"
    }
   ],
   "source": [
    "tr = np.full(len(occ_signal), 0.5e-11)\n",
    "plt.plot(raw.times,occ_signal,raw.times,tr)\n",
    "plt.xlim(540,550);plt.ylim(-1.5e-11,1.5e-11);plt.xlabel('Time (s)');plt.ylabel('Field (T)');plt.title('Putative occular signal')"
   ]
  },
  {
   "cell_type": "markdown",
   "id": "8c8a0ebb-1d05-47d2-bc98-f72b392c610f",
   "metadata": {},
   "source": [
    "Two eye-blinks are clearly visible. The orange line denotes the threshold which is set to 0.5e-11 T.\n",
    "\n",
    "Subsequently use the MNE-defined function to identify the ocular events:"
   ]
  },
  {
   "cell_type": "code",
   "execution_count": 6,
   "id": "63088e15-25d8-4db9-9389-882d9ec939d0",
   "metadata": {},
   "outputs": [
    {
     "name": "stdout",
     "output_type": "stream",
     "text": [
      "Using EOG channel: Trigger 2\n",
      "EOG channel index for this subject is: [1]\n",
      "Filtering the data to remove DC offset to help distinguish blinks from saccades\n",
      "Selecting channel Trigger 2 for blink detection\n",
      "Setting up band-pass filter from 1 - 10 Hz\n",
      "\n",
      "FIR filter parameters\n",
      "---------------------\n",
      "Designing a two-pass forward and reverse, zero-phase, non-causal bandpass filter:\n",
      "- Windowed frequency-domain design (firwin2) method\n",
      "- Hann window\n",
      "- Lower passband edge: 1.00\n",
      "- Lower transition bandwidth: 0.50 Hz (-12 dB cutoff frequency: 0.75 Hz)\n",
      "- Upper passband edge: 10.00 Hz\n",
      "- Upper transition bandwidth: 0.50 Hz (-12 dB cutoff frequency: 10.25 Hz)\n",
      "- Filter length: 7500 samples (10.000 s)\n",
      "\n",
      "Now detecting blinks and generating corresponding events\n",
      "Found 514 significant peaks\n",
      "Number of EOG events detected: 514\n"
     ]
    }
   ],
   "source": [
    "eog_events = mne.preprocessing.find_eog_events(raw, ch_name='Trigger 2',thresh=0.5e-11) "
   ]
  },
  {
   "cell_type": "markdown",
   "id": "6f2c4386-0dea-4a06-a9bb-b09b29389111",
   "metadata": {},
   "source": [
    "In total, 514 events were identified as blinks. To write these events on the dataset, the next step is to create an annotation object which contains the onset of each blink, their durations (-0.25 s to 0.25 s) and a description label (i.e., tag) of the type of event:"
   ]
  },
  {
   "cell_type": "code",
   "execution_count": 7,
   "id": "84ed002d-a576-4736-b661-7e788f98a13b",
   "metadata": {},
   "outputs": [],
   "source": [
    "n_blinks = len(eog_events)\n",
    "onset = eog_events[:, 0] / raw.info['sfreq'] - 0.25\n",
    "duration = np.repeat(0.5, n_blinks)\n",
    "description = ['blink'] * n_blinks\n",
    "orig_time = raw.info['meas_date']\n",
    "annotations_blink = mne.Annotations(onset, duration, description, orig_time)"
   ]
  },
  {
   "cell_type": "markdown",
   "id": "71795818-5d8d-49b5-9eb4-a894c54f0674",
   "metadata": {},
   "source": [
    "**Question 1:**   Discuss the pros of cons of using a fixed threshold for ocular artefacts as compared to using a statistical measure based on e.g. Z-scores\n",
    "\n",
    "\n",
    "## Detecting muscle artefacts\n",
    "\n",
    "Muscle artefact typically appear as high-frequency signals reflecting magnetomyographic muscle contractions [1]. They will here be identfied from the magnetometer data filtered in the 110 - 140 Hz range. The data are subsequently z-scored. If the exceed a z-score of 3, a section of data is annotated as a muscle artefact. The shortest allowed duration of “good data” between adjacent annotations is 0.1 s; shorter segments will be incorporated into surrounding annotations."
   ]
  },
  {
   "cell_type": "markdown",
   "id": "6cc473b8-949a-46f7-99b4-749162a132a7",
   "metadata": {},
   "source": [
    "Before computing the Z-score make sure the 'bad' channels are removed."
   ]
  },
  {
   "cell_type": "code",
   "execution_count": 8,
   "id": "3bd0d68e-a1a5-4d52-adf5-5ca73d63f0cf",
   "metadata": {},
   "outputs": [],
   "source": [
    "raw_clean = raw.copy().drop_channels(raw.info['bads'])"
   ]
  },
  {
   "cell_type": "markdown",
   "id": "86c4d573-6f84-4091-b386-c0a5f2dc280c",
   "metadata": {},
   "source": [
    "At ARNAB: do we want to remove bad channels for good?"
   ]
  },
  {
   "cell_type": "markdown",
   "id": "3e7780b6-8fae-4874-8623-2ea08bc76597",
   "metadata": {},
   "source": [
    "Compute the Z-score"
   ]
  },
  {
   "cell_type": "code",
   "execution_count": 9,
   "id": "cf617fa1-6361-4940-b8bd-2eb70200645c",
   "metadata": {},
   "outputs": [
    {
     "name": "stdout",
     "output_type": "stream",
     "text": [
      "Filtering raw data in 1 contiguous segment\n",
      "Setting up band-pass filter from 1e+02 - 1.3e+02 Hz\n",
      "\n",
      "FIR filter parameters\n",
      "---------------------\n",
      "Designing a one-pass, zero-phase, non-causal bandpass filter:\n",
      "- Windowed time-domain design (firwin) method\n",
      "- Hamming window with 0.0194 passband ripple and 53 dB stopband attenuation\n",
      "- Lower passband edge: 105.00\n",
      "- Lower transition bandwidth: 26.25 Hz (-6 dB cutoff frequency: 91.88 Hz)\n",
      "- Upper passband edge: 130.00 Hz\n",
      "- Upper transition bandwidth: 32.50 Hz (-6 dB cutoff frequency: 146.25 Hz)\n",
      "- Filter length: 95 samples (0.127 s)\n",
      "\n"
     ]
    },
    {
     "name": "stderr",
     "output_type": "stream",
     "text": [
      "[Parallel(n_jobs=1)]: Done  17 tasks      | elapsed:    0.8s\n",
      "[Parallel(n_jobs=1)]: Done  71 tasks      | elapsed:    3.1s\n",
      "[Parallel(n_jobs=1)]: Done 161 tasks      | elapsed:    7.1s\n"
     ]
    },
    {
     "name": "stdout",
     "output_type": "stream",
     "text": [
      "Setting up low-pass filter at 4 Hz\n",
      "\n",
      "FIR filter parameters\n",
      "---------------------\n",
      "Designing a one-pass, zero-phase, non-causal lowpass filter:\n",
      "- Windowed time-domain design (firwin) method\n",
      "- Hamming window with 0.0194 passband ripple and 53 dB stopband attenuation\n",
      "- Upper passband edge: 4.00 Hz\n",
      "- Upper transition bandwidth: 2.00 Hz (-6 dB cutoff frequency: 5.00 Hz)\n",
      "- Filter length: 1239 samples (1.652 s)\n",
      "\n"
     ]
    }
   ],
   "source": [
    "threshold_muscle = 3\n",
    "annotations_muscle, scores_muscle = annotate_muscle_zscore(\n",
    "    raw_clean, ch_type=\"mag\", threshold=threshold_muscle, min_length_good=0.1,\n",
    "    filter_freq=[110, 140])\n"
   ]
  },
  {
   "cell_type": "markdown",
   "id": "92ed3353-fa41-4436-8dd7-cb6f1b57867e",
   "metadata": {},
   "source": [
    "Muscle artefacts identified:"
   ]
  },
  {
   "cell_type": "code",
   "execution_count": 10,
   "id": "baba92b8-5193-4707-8507-fac2c67d459d",
   "metadata": {},
   "outputs": [
    {
     "name": "stdout",
     "output_type": "stream",
     "text": [
      "<Annotations | 59 segments: BAD_muscle (59)>\n"
     ]
    }
   ],
   "source": [
    "print(annotations_muscle)"
   ]
  },
  {
   "cell_type": "markdown",
   "id": "c83abe07-694d-46d7-a1b2-21d351570c7c",
   "metadata": {},
   "source": [
    "To check whether the threshold used for the muscle annotation is appropriate, plot the z-scores as a funnction of time. The threshold is indicated by a red line."
   ]
  },
  {
   "cell_type": "code",
   "execution_count": 11,
   "id": "6cd612c7-d848-4d5f-bf30-0d2735e512a0",
   "metadata": {},
   "outputs": [
    {
     "data": {
      "image/png": "[encoded data removed]",
      "text/plain": [
       "<Figure size 640x480 with 1 Axes>"
      ]
     },
     "metadata": {},
     "output_type": "display_data"
    }
   ],
   "source": [
    "tr = np.full(len(scores_muscle), 2.5)\n",
    "plt.plot(raw_clean.times, scores_muscle,raw_clean.times, tr);\n",
    "plt.xlabel('Time (s)');plt.ylabel('Z score');plt.title('Putative muscular activity');"
   ]
  },
  {
   "cell_type": "markdown",
   "id": "891719c9-868d-470c-b1c4-d0e17c1b3a1c",
   "metadata": {},
   "source": [
    "## Include annotations in dataset and inspect visually"
   ]
  },
  {
   "cell_type": "markdown",
   "id": "eacf9158-6a4c-413f-bea5-055cbce17593",
   "metadata": {},
   "source": [
    "Now mark all the annotations in the data set.\n",
    "\n",
    "Since calling set_annotations() replaces any existing annotations in the Raw object, the original annotations are first extracted and then combined with the blink and muscle annotations before being reassigned."
   ]
  },
  {
   "cell_type": "code",
   "execution_count": 12,
   "id": "6683a860-2bed-447c-986e-ca692dfdfd65",
   "metadata": {},
   "outputs": [
    {
     "name": "stderr",
     "output_type": "stream",
     "text": [
      "/var/folders/n0/w7vb4jpn0nx3hs95f4p7r9br0000gr/T/ipykernel_75510/2036331298.py:2: RuntimeWarning: Limited 1 annotation(s) that were expanding outside the data range.\n",
      "  raw_clean.set_annotations(annotations_event + annotations_blink + annotations_muscle)\n"
     ]
    },
    {
     "data": {
      "text/html": [
       "<script type=\"text/javascript\">\n",
       "    // must be `var` (not `const`) because this can get embedded multiple times on a page\n",
       "var toggleVisibility = (className) => {\n",
       "\n",
       "    const elements = document.querySelectorAll(`.${className}`);\n",
       "\n",
       "    elements.forEach(element => {\n",
       "        if (element.classList.contains(\"mne-repr-section-header\")) {\n",
       "            return  // Don't collapse the section header row\n",
       "        }\n",
       "        element.classList.toggle(\"mne-repr-collapsed\");\n",
       "    });\n",
       "\n",
       "    // trigger caret to rotate\n",
       "    var sel = `.mne-repr-section-header.${className} > th.mne-repr-section-toggle > button`;\n",
       "    const button = document.querySelector(sel);\n",
       "    button.classList.toggle(\"collapsed\");\n",
       "\n",
       "    // adjust tooltip\n",
       "    sel = `tr.mne-repr-section-header.${className}`;\n",
       "    const secHeadRow = document.querySelector(sel);\n",
       "    secHeadRow.classList.toggle(\"collapsed\");\n",
       "    secHeadRow.title = secHeadRow.title === \"Hide section\" ? \"Show section\" : \"Hide section\";\n",
       "}\n",
       "</script>\n",
       "\n",
       "<style type=\"text/css\">\n",
       "    /*\n",
       "Styles in this section apply both to the sphinx-built website docs and to notebooks\n",
       "rendered in an IDE or in Jupyter. In our web docs, styles here are complemented by\n",
       "doc/_static/styles.css and other CSS files (e.g. from the sphinx theme, sphinx-gallery,\n",
       "or bootstrap). In IDEs/Jupyter, those style files are unavailable, so only the rules in\n",
       "this file apply (plus whatever default styling the IDE applies).\n",
       "*/\n",
       ".mne-repr-table {\n",
       "    display: inline;  /* prevent using full container width */\n",
       "}\n",
       ".mne-repr-table tr.mne-repr-section-header > th {\n",
       "    padding-top: 1rem;\n",
       "    text-align: left;\n",
       "    vertical-align: middle;\n",
       "}\n",
       ".mne-repr-section-toggle > button {\n",
       "    all: unset;\n",
       "    display: block;\n",
       "    height: 1rem;\n",
       "    width: 1rem;\n",
       "}\n",
       ".mne-repr-section-toggle > button > svg {\n",
       "    height: 60%;\n",
       "}\n",
       "\n",
       "/* transition (rotation) effects on the collapser button */\n",
       ".mne-repr-section-toggle > button.collapsed > svg {\n",
       "    transition: 0.1s ease-out;\n",
       "    transform: rotate(-90deg);\n",
       "}\n",
       ".mne-repr-section-toggle > button:not(.collapsed) > svg {\n",
       "    transition: 0.1s ease-out;\n",
       "    transform: rotate(0deg);\n",
       "}\n",
       "\n",
       "/* hide collapsed table rows */\n",
       ".mne-repr-collapsed {\n",
       "    display: none;\n",
       "}\n",
       "\n",
       "\n",
       "@layer {\n",
       "    /*\n",
       "    Selectors in a `@layer` will always be lower-precedence than selectors outside the\n",
       "    layer. So even though e.g. `div.output_html` is present in the sphinx-rendered\n",
       "    website docs, the styles here won't take effect there as long as some other rule\n",
       "    somewhere in the page's CSS targets the same element.\n",
       "\n",
       "    In IDEs or Jupyter notebooks, though, the CSS files from the sphinx theme,\n",
       "    sphinx-gallery, and bootstrap are unavailable, so these styles will apply.\n",
       "\n",
       "    Notes:\n",
       "\n",
       "    - the selector `.accordion-body` is for MNE Reports\n",
       "    - the selector `.output_html` is for VSCode's notebook interface\n",
       "    - the selector `.jp-RenderedHTML` is for Jupyter notebook\n",
       "    - variables starting with `--theme-` are VSCode-specific.\n",
       "    - variables starting with `--jp-` are Jupyter styles, *some of which* are also\n",
       "      available in VSCode. Here we try the `--theme-` variable first, then fall back to\n",
       "      the `--jp-` ones.\n",
       "    */\n",
       "    .mne-repr-table {\n",
       "        --mne-toggle-color: var(--theme-foreground, var(--jp-ui-font-color1));\n",
       "        --mne-button-bg-color: var(--theme-button-background, var(--jp-info-color0, var(--jp-content-link-color)));\n",
       "        --mne-button-fg-color: var(--theme-button-foreground, var(--jp-ui-inverse-font-color0, var(--jp-editor-background)));\n",
       "        --mne-button-hover-bg-color: var(--theme-button-hover-background, var(--jp-info-color1));\n",
       "        --mne-button-radius: var(--jp-border-radius, 0.25rem);\n",
       "    }\n",
       "    /* chevron position/alignment; in VSCode it looks ok without adjusting */\n",
       "    .accordion-body .mne-repr-section-toggle > button,\n",
       "    .jp-RenderedHTML .mne-repr-section-toggle > button {\n",
       "        padding: 0 0 45% 25% !important;\n",
       "    }\n",
       "    /* chevron color; MNE Report doesn't have light/dark mode */\n",
       "    div.output_html .mne-repr-section-toggle > button > svg > path,\n",
       "    .jp-RenderedHTML .mne-repr-section-toggle > button > svg > path {\n",
       "        fill: var(--mne-toggle-color);\n",
       "    }\n",
       "    .accordion-body .mne-ch-names-btn,\n",
       "    div.output_html .mne-ch-names-btn,\n",
       "    .jp-RenderedHTML .mne-ch-names-btn {\n",
       "        -webkit-border-radius: var(--mne-button-radius);\n",
       "        -moz-border-radius: var(--mne-button-radius);\n",
       "        border-radius: var(--mne-button-radius);\n",
       "        border: none;\n",
       "        background-image: none;\n",
       "        background-color: var(--mne-button-bg-color);\n",
       "        color: var(--mne-button-fg-color);\n",
       "        font-size: inherit;\n",
       "        min-width: 1.5rem;\n",
       "        padding: 0.25rem;\n",
       "        text-align: center;\n",
       "        text-decoration: none;\n",
       "    }\n",
       "    .accordion-body .mne-ch-names-btn:hover,\n",
       "    div.output_html .mne.ch-names-btn:hover,\n",
       "    .jp-RenderedHTML .mne-ch-names-btn:hover {\n",
       "        background-color: var(--mne-button-hover-bg-color);\n",
       "        text-decoration: underline;\n",
       "    }\n",
       "    .accordion-body .mne-ch-names-btn:focus-visible,\n",
       "    div.output_html .mne-ch-names-btn:focus-visible,\n",
       "    .jp-RenderedHTML .mne-ch-names-btn:focus-visible {\n",
       "        outline: 0.1875rem solid var(--mne-button-bg-color) !important;\n",
       "        outline-offset: 0.1875rem !important;\n",
       "    }\n",
       "}\n",
       "</style>\n",
       "\n",
       "\n",
       "\n",
       "<table class=\"table mne-repr-table\">\n",
       "    \n",
       "\n",
       "\n",
       "\n",
       "\n",
       "\n",
       "\n",
       "\n",
       "<tr class=\"mne-repr-section-header general-61d463df-5e71-463d-93b0-c161dc891250\"\n",
       "     title=\"Hide section\" \n",
       "    onclick=\"toggleVisibility('general-61d463df-5e71-463d-93b0-c161dc891250')\">\n",
       "    <th class=\"mne-repr-section-toggle\">\n",
       "        <button >\n",
       "            <svg xmlns=\"http://www.w3.org/2000/svg\" viewBox=\"0 0 512 512\"><!--!Font Awesome Free 6.6.0 by @fontawesome - https://fontawesome.com License - https://fontawesome.com/license/free Copyright 2024 Fonticons, Inc.--><path d=\"M233.4 406.6c12.5 12.5 32.8 12.5 45.3 0l192-192c12.5-12.5 12.5-32.8 0-45.3s-32.8-12.5-45.3 0L256 338.7 86.6 169.4c-12.5-12.5-32.8-12.5-45.3 0s-12.5 32.8 0 45.3l192 192z\"/></svg>\n",
       "        </button>\n",
       "    </th>\n",
       "    <th colspan=\"2\">\n",
       "        <strong>General</strong>\n",
       "    </th>\n",
       "</tr>\n",
       "\n",
       "\n",
       "<tr class=\"repr-element general-61d463df-5e71-463d-93b0-c161dc891250 \">\n",
       "    <td class=\"mne-repr-section-toggle\"></td>\n",
       "    <td>Filename(s)</td>\n",
       "    <td>\n",
       "        \n",
       "        sub-01_ses-01_task-SpAtt_run-01_hfc_raw.fif\n",
       "        \n",
       "        \n",
       "    </td>\n",
       "</tr>\n",
       "\n",
       "<tr class=\"repr-element general-61d463df-5e71-463d-93b0-c161dc891250 \">\n",
       "    <td class=\"mne-repr-section-toggle\"></td>\n",
       "    <td>MNE object type</td>\n",
       "    <td>Raw</td>\n",
       "</tr>\n",
       "<tr class=\"repr-element general-61d463df-5e71-463d-93b0-c161dc891250 \">\n",
       "    <td class=\"mne-repr-section-toggle\"></td>\n",
       "    <td>Measurement date</td>\n",
       "    \n",
       "    <td>Unknown</td>\n",
       "    \n",
       "</tr>\n",
       "<tr class=\"repr-element general-61d463df-5e71-463d-93b0-c161dc891250 \">\n",
       "    <td class=\"mne-repr-section-toggle\"></td>\n",
       "    <td>Participant</td>\n",
       "    \n",
       "    \n",
       "    \n",
       "</tr>\n",
       "<tr class=\"repr-element general-61d463df-5e71-463d-93b0-c161dc891250 \">\n",
       "    <td class=\"mne-repr-section-toggle\"></td>\n",
       "    <td>Experimenter</td>\n",
       "    \n",
       "    <td>mne_anonymize</td>\n",
       "    \n",
       "</tr>\n",
       "    \n",
       "\n",
       "\n",
       "\n",
       "\n",
       "\n",
       "\n",
       "\n",
       "<tr class=\"mne-repr-section-header acquisition-8720b452-8659-4caa-b24e-a248d4becdf1\"\n",
       "     title=\"Hide section\" \n",
       "    onclick=\"toggleVisibility('acquisition-8720b452-8659-4caa-b24e-a248d4becdf1')\">\n",
       "    <th class=\"mne-repr-section-toggle\">\n",
       "        <button >\n",
       "            <svg xmlns=\"http://www.w3.org/2000/svg\" viewBox=\"0 0 512 512\"><!--!Font Awesome Free 6.6.0 by @fontawesome - https://fontawesome.com License - https://fontawesome.com/license/free Copyright 2024 Fonticons, Inc.--><path d=\"M233.4 406.6c12.5 12.5 32.8 12.5 45.3 0l192-192c12.5-12.5 12.5-32.8 0-45.3s-32.8-12.5-45.3 0L256 338.7 86.6 169.4c-12.5-12.5-32.8-12.5-45.3 0s-12.5 32.8 0 45.3l192 192z\"/></svg>\n",
       "        </button>\n",
       "    </th>\n",
       "    <th colspan=\"2\">\n",
       "        <strong>Acquisition</strong>\n",
       "    </th>\n",
       "</tr>\n",
       "\n",
       "\n",
       "<tr class=\"repr-element acquisition-8720b452-8659-4caa-b24e-a248d4becdf1 \">\n",
       "    <td class=\"mne-repr-section-toggle\"></td>\n",
       "    <td>Duration</td>\n",
       "    <td>00:34:14 (HH:MM:SS)</td>\n",
       "</tr>\n",
       "\n",
       "\n",
       "\n",
       "\n",
       "\n",
       "\n",
       "\n",
       "\n",
       "<tr class=\"repr-element acquisition-8720b452-8659-4caa-b24e-a248d4becdf1 \">\n",
       "    <td class=\"mne-repr-section-toggle\"></td>\n",
       "    <td>Sampling frequency</td>\n",
       "    <td>750.00 Hz</td>\n",
       "</tr>\n",
       "\n",
       "\n",
       "<tr class=\"repr-element acquisition-8720b452-8659-4caa-b24e-a248d4becdf1 \">\n",
       "    <td class=\"mne-repr-section-toggle\"></td>\n",
       "    <td>Time points</td>\n",
       "    <td>1,539,808</td>\n",
       "</tr>\n",
       "\n",
       "\n",
       "    \n",
       "\n",
       "\n",
       "\n",
       "\n",
       "\n",
       "\n",
       "\n",
       "<tr class=\"mne-repr-section-header channels-f99dc690-06c1-4eda-9adb-3053c30d7c9b\"\n",
       "     title=\"Hide section\" \n",
       "    onclick=\"toggleVisibility('channels-f99dc690-06c1-4eda-9adb-3053c30d7c9b')\">\n",
       "    <th class=\"mne-repr-section-toggle\">\n",
       "        <button >\n",
       "            <svg xmlns=\"http://www.w3.org/2000/svg\" viewBox=\"0 0 512 512\"><!--!Font Awesome Free 6.6.0 by @fontawesome - https://fontawesome.com License - https://fontawesome.com/license/free Copyright 2024 Fonticons, Inc.--><path d=\"M233.4 406.6c12.5 12.5 32.8 12.5 45.3 0l192-192c12.5-12.5 12.5-32.8 0-45.3s-32.8-12.5-45.3 0L256 338.7 86.6 169.4c-12.5-12.5-32.8-12.5-45.3 0s-12.5 32.8 0 45.3l192 192z\"/></svg>\n",
       "        </button>\n",
       "    </th>\n",
       "    <th colspan=\"2\">\n",
       "        <strong>Channels</strong>\n",
       "    </th>\n",
       "</tr>\n",
       "\n",
       "\n",
       "    \n",
       "<tr class=\"repr-element channels-f99dc690-06c1-4eda-9adb-3053c30d7c9b \">\n",
       "    <td class=\"mne-repr-section-toggle\"></td>\n",
       "    <td>Magnetometers</td>\n",
       "    <td>\n",
       "        <button class=\"mne-ch-names-btn sd-sphinx-override sd-btn sd-btn-info sd-text-wrap sd-shadow-sm\" onclick=\"alert('Good Magnetometers:\\n\\nF1&nbsp;A1&nbsp;Z, F1&nbsp;A1&nbsp;Y, F1&nbsp;A1&nbsp;X, F3&nbsp;A3&nbsp;Z, F3&nbsp;A3&nbsp;Y, F3&nbsp;A3&nbsp;X, F5&nbsp;A6&nbsp;Z, F5&nbsp;A6&nbsp;Y, F5&nbsp;A6&nbsp;X, F7&nbsp;C3&nbsp;Z, F7&nbsp;C3&nbsp;Y, F7&nbsp;C3&nbsp;X, F9&nbsp;A4&nbsp;Z, F9&nbsp;A4&nbsp;Y, F9&nbsp;A4&nbsp;X, F11&nbsp;A8&nbsp;Z, F11&nbsp;A8&nbsp;Y, F11&nbsp;A8&nbsp;X, C1&nbsp;A7&nbsp;Z, C1&nbsp;A7&nbsp;Y, C1&nbsp;A7&nbsp;X, C3&nbsp;C2&nbsp;Z, C3&nbsp;C2&nbsp;Y, C3&nbsp;C2&nbsp;X, C5&nbsp;C1&nbsp;Z, C5&nbsp;C1&nbsp;Y, C5&nbsp;C1&nbsp;X, C7&nbsp;E4&nbsp;Z, C7&nbsp;E4&nbsp;Y, C7&nbsp;E4&nbsp;X, P1&nbsp;E8&nbsp;Z, P1&nbsp;E8&nbsp;Y, P1&nbsp;E8&nbsp;X, P3&nbsp;E1&nbsp;Z, P3&nbsp;E1&nbsp;Y, P3&nbsp;E1&nbsp;X, P5&nbsp;C6&nbsp;Z, P5&nbsp;C6&nbsp;Y, P5&nbsp;C6&nbsp;X, P7&nbsp;E7&nbsp;Z, P7&nbsp;E7&nbsp;Y, P7&nbsp;E7&nbsp;X, P9&nbsp;E3&nbsp;Z, P9&nbsp;E3&nbsp;Y, P9&nbsp;E3&nbsp;X, P11&nbsp;E6&nbsp;Z, P11&nbsp;E6&nbsp;Y, P11&nbsp;E6&nbsp;X, O1&nbsp;E5&nbsp;Z, O1&nbsp;E5&nbsp;Y, O1&nbsp;E5&nbsp;X, O3&nbsp;G6&nbsp;Z, O3&nbsp;G6&nbsp;Y, O3&nbsp;G6&nbsp;X, O5&nbsp;G4&nbsp;Z, O5&nbsp;G4&nbsp;Y, O5&nbsp;G4&nbsp;X, O7&nbsp;G2&nbsp;Z, O7&nbsp;G2&nbsp;Y, O7&nbsp;G2&nbsp;X, O9&nbsp;G3&nbsp;Z, O9&nbsp;G3&nbsp;Y, T1&nbsp;C7&nbsp;Y, T1&nbsp;C7&nbsp;X, T3&nbsp;C4&nbsp;Z, T3&nbsp;C4&nbsp;Y, T3&nbsp;C4&nbsp;X, T5&nbsp;C5&nbsp;X, T7&nbsp;C8&nbsp;Z, T7&nbsp;C8&nbsp;Y, T7&nbsp;C8&nbsp;X, T9&nbsp;G1&nbsp;Z, T9&nbsp;G1&nbsp;Y, T9&nbsp;G1&nbsp;X, T11&nbsp;G7&nbsp;Z, T11&nbsp;G7&nbsp;X, T13&nbsp;G8&nbsp;Z, T13&nbsp;G8&nbsp;Y, T13&nbsp;G8&nbsp;X, F2&nbsp;B7&nbsp;Z, F2&nbsp;B7&nbsp;Y, F2&nbsp;B7&nbsp;X, F4&nbsp;B6&nbsp;Z, F4&nbsp;B6&nbsp;Y, F4&nbsp;B6&nbsp;X, F6&nbsp;B8&nbsp;Z, F6&nbsp;B8&nbsp;Y, F6&nbsp;B8&nbsp;X, F8&nbsp;B1&nbsp;Z, F8&nbsp;B1&nbsp;Y, F8&nbsp;B1&nbsp;X, F10&nbsp;B3&nbsp;Z, F10&nbsp;B3&nbsp;Y, F10&nbsp;B3&nbsp;X, F12&nbsp;D8&nbsp;Z, F12&nbsp;D8&nbsp;Y, F12&nbsp;D8&nbsp;X, C2&nbsp;B5&nbsp;Z, C2&nbsp;B5&nbsp;Y, C2&nbsp;B5&nbsp;X, C4&nbsp;D7&nbsp;Z, C4&nbsp;D7&nbsp;Y, C4&nbsp;D7&nbsp;X, C6&nbsp;D4&nbsp;Z, C6&nbsp;D4&nbsp;Y, C6&nbsp;D4&nbsp;X, C8&nbsp;F7&nbsp;Z, C8&nbsp;F7&nbsp;Y, C8&nbsp;F7&nbsp;X, P2&nbsp;F3&nbsp;Z, P2&nbsp;F3&nbsp;Y, P2&nbsp;F3&nbsp;X, P4&nbsp;D3&nbsp;Z, P4&nbsp;D3&nbsp;Y, P4&nbsp;D3&nbsp;X, P6&nbsp;F2&nbsp;Z, P6&nbsp;F2&nbsp;Y, P6&nbsp;F2&nbsp;X, P8&nbsp;F1&nbsp;Z, P8&nbsp;F1&nbsp;Y, P8&nbsp;F1&nbsp;X, P10&nbsp;F5&nbsp;Z, P10&nbsp;F5&nbsp;Y, P10&nbsp;F5&nbsp;X, P12&nbsp;F4&nbsp;Z, P12&nbsp;F4&nbsp;Y, P12&nbsp;F4&nbsp;X, O2&nbsp;H3&nbsp;Z, O2&nbsp;H3&nbsp;X, O4&nbsp;H8&nbsp;Z, O4&nbsp;H8&nbsp;Y, O4&nbsp;H8&nbsp;X, O6&nbsp;H1&nbsp;Z, O6&nbsp;H1&nbsp;Y, O6&nbsp;H1&nbsp;X, O8&nbsp;H5&nbsp;Z, O8&nbsp;H5&nbsp;Y, O8&nbsp;H5&nbsp;X, O10&nbsp;H7&nbsp;Z, O10&nbsp;H7&nbsp;Y, O10&nbsp;H7&nbsp;X, T2&nbsp;B2&nbsp;Z, T2&nbsp;B2&nbsp;Y, T2&nbsp;B2&nbsp;X, T4&nbsp;D1&nbsp;Z, T4&nbsp;D1&nbsp;Y, T4&nbsp;D1&nbsp;X, T6&nbsp;D6&nbsp;Z, T6&nbsp;D6&nbsp;Y, T6&nbsp;D6&nbsp;X, T8&nbsp;D2&nbsp;Z, T8&nbsp;D2&nbsp;Y, T8&nbsp;D2&nbsp;X, T10&nbsp;D5&nbsp;Z, T10&nbsp;D5&nbsp;Y, T10&nbsp;D5&nbsp;X, T12&nbsp;H2&nbsp;Z, T12&nbsp;H2&nbsp;Y, T12&nbsp;H2&nbsp;X, Fpz&nbsp;A2&nbsp;Z, Fpz&nbsp;A2&nbsp;Y, Fpz&nbsp;A2&nbsp;X, Fz&nbsp;A5&nbsp;Z, Fz&nbsp;A5&nbsp;Y, Fz&nbsp;A5&nbsp;X, FCz&nbsp;F6&nbsp;Z, FCz&nbsp;F6&nbsp;Y, FCz&nbsp;F6&nbsp;X, Cz&nbsp;E2&nbsp;Z, Cz&nbsp;E2&nbsp;Y, Cz&nbsp;E2&nbsp;X, Pz&nbsp;F8&nbsp;Z, Pz&nbsp;F8&nbsp;Y, Pz&nbsp;F8&nbsp;X, Oz&nbsp;G5&nbsp;Z, Oz&nbsp;G5&nbsp;Y, Oz&nbsp;G5&nbsp;X, Iz&nbsp;H4&nbsp;Z, Iz&nbsp;H4&nbsp;Y, Iz&nbsp;H4&nbsp;X')\" title=\"(Click to open in popup)&#13;&#13;F1&nbsp;A1&nbsp;Z, F1&nbsp;A1&nbsp;Y, F1&nbsp;A1&nbsp;X, F3&nbsp;A3&nbsp;Z, F3&nbsp;A3&nbsp;Y, F3&nbsp;A3&nbsp;X, F5&nbsp;A6&nbsp;Z, F5&nbsp;A6&nbsp;Y, F5&nbsp;A6&nbsp;X, F7&nbsp;C3&nbsp;Z, F7&nbsp;C3&nbsp;Y, F7&nbsp;C3&nbsp;X, F9&nbsp;A4&nbsp;Z, F9&nbsp;A4&nbsp;Y, F9&nbsp;A4&nbsp;X, F11&nbsp;A8&nbsp;Z, F11&nbsp;A8&nbsp;Y, F11&nbsp;A8&nbsp;X, C1&nbsp;A7&nbsp;Z, C1&nbsp;A7&nbsp;Y, C1&nbsp;A7&nbsp;X, C3&nbsp;C2&nbsp;Z, C3&nbsp;C2&nbsp;Y, C3&nbsp;C2&nbsp;X, C5&nbsp;C1&nbsp;Z, C5&nbsp;C1&nbsp;Y, C5&nbsp;C1&nbsp;X, C7&nbsp;E4&nbsp;Z, C7&nbsp;E4&nbsp;Y, C7&nbsp;E4&nbsp;X, P1&nbsp;E8&nbsp;Z, P1&nbsp;E8&nbsp;Y, P1&nbsp;E8&nbsp;X, P3&nbsp;E1&nbsp;Z, P3&nbsp;E1&nbsp;Y, P3&nbsp;E1&nbsp;X, P5&nbsp;C6&nbsp;Z, P5&nbsp;C6&nbsp;Y, P5&nbsp;C6&nbsp;X, P7&nbsp;E7&nbsp;Z, P7&nbsp;E7&nbsp;Y, P7&nbsp;E7&nbsp;X, P9&nbsp;E3&nbsp;Z, P9&nbsp;E3&nbsp;Y, P9&nbsp;E3&nbsp;X, P11&nbsp;E6&nbsp;Z, P11&nbsp;E6&nbsp;Y, P11&nbsp;E6&nbsp;X, O1&nbsp;E5&nbsp;Z, O1&nbsp;E5&nbsp;Y, O1&nbsp;E5&nbsp;X, O3&nbsp;G6&nbsp;Z, O3&nbsp;G6&nbsp;Y, O3&nbsp;G6&nbsp;X, O5&nbsp;G4&nbsp;Z, O5&nbsp;G4&nbsp;Y, O5&nbsp;G4&nbsp;X, O7&nbsp;G2&nbsp;Z, O7&nbsp;G2&nbsp;Y, O7&nbsp;G2&nbsp;X, O9&nbsp;G3&nbsp;Z, O9&nbsp;G3&nbsp;Y, T1&nbsp;C7&nbsp;Y, T1&nbsp;C7&nbsp;X, T3&nbsp;C4&nbsp;Z, T3&nbsp;C4&nbsp;Y, T3&nbsp;C4&nbsp;X, T5&nbsp;C5&nbsp;X, T7&nbsp;C8&nbsp;Z, T7&nbsp;C8&nbsp;Y, T7&nbsp;C8&nbsp;X, T9&nbsp;G1&nbsp;Z, T9&nbsp;G1&nbsp;Y, T9&nbsp;G1&nbsp;X, T11&nbsp;G7&nbsp;Z, T11&nbsp;G7&nbsp;X, T13&nbsp;G8&nbsp;Z, T13&nbsp;G8&nbsp;Y, T13&nbsp;G8&nbsp;X, F2&nbsp;B7&nbsp;Z, F2&nbsp;B7&nbsp;Y, F2&nbsp;B7&nbsp;X, F4&nbsp;B6&nbsp;Z, F4&nbsp;B6&nbsp;Y, F4&nbsp;B6&nbsp;X, F6&nbsp;B8&nbsp;Z, F6&nbsp;B8&nbsp;Y, F6&nbsp;B8&nbsp;X, F8&nbsp;B1&nbsp;Z, F8&nbsp;B1&nbsp;Y, F8&nbsp;B1&nbsp;X, F10&nbsp;B3&nbsp;Z, F10&nbsp;B3&nbsp;Y, F10&nbsp;B3&nbsp;X, F12&nbsp;D8&nbsp;Z, F12&nbsp;D8&nbsp;Y, F12&nbsp;D8&nbsp;X, C2&nbsp;B5&nbsp;Z, C2&nbsp;B5&nbsp;Y, C2&nbsp;B5&nbsp;X, C4&nbsp;D7&nbsp;Z, C4&nbsp;D7&nbsp;Y, C4&nbsp;D7&nbsp;X, C6&nbsp;D4&nbsp;Z, C6&nbsp;D4&nbsp;Y, C6&nbsp;D4&nbsp;X, C8&nbsp;F7&nbsp;Z, C8&nbsp;F7&nbsp;Y, C8&nbsp;F7&nbsp;X, P2&nbsp;F3&nbsp;Z, P2&nbsp;F3&nbsp;Y, P2&nbsp;F3&nbsp;X, P4&nbsp;D3&nbsp;Z, P4&nbsp;D3&nbsp;Y, P4&nbsp;D3&nbsp;X, P6&nbsp;F2&nbsp;Z, P6&nbsp;F2&nbsp;Y, P6&nbsp;F2&nbsp;X, P8&nbsp;F1&nbsp;Z, P8&nbsp;F1&nbsp;Y, P8&nbsp;F1&nbsp;X, P10&nbsp;F5&nbsp;Z, P10&nbsp;F5&nbsp;Y, P10&nbsp;F5&nbsp;X, P12&nbsp;F4&nbsp;Z, P12&nbsp;F4&nbsp;Y, P12&nbsp;F4&nbsp;X, O2&nbsp;H3&nbsp;Z, O2&nbsp;H3&nbsp;X, O4&nbsp;H8&nbsp;Z, O4&nbsp;H8&nbsp;Y, O4&nbsp;H8&nbsp;X, O6&nbsp;H1&nbsp;Z, O6&nbsp;H1&nbsp;Y, O6&nbsp;H1&nbsp;X, O8&nbsp;H5&nbsp;Z, O8&nbsp;H5&nbsp;Y, O8&nbsp;H5&nbsp;X, O10&nbsp;H7&nbsp;Z, O10&nbsp;H7&nbsp;Y, O10&nbsp;H7&nbsp;X, T2&nbsp;B2&nbsp;Z, T2&nbsp;B2&nbsp;Y, T2&nbsp;B2&nbsp;X, T4&nbsp;D1&nbsp;Z, T4&nbsp;D1&nbsp;Y, T4&nbsp;D1&nbsp;X, T6&nbsp;D6&nbsp;Z, T6&nbsp;D6&nbsp;Y, T6&nbsp;D6&nbsp;X, T8&nbsp;D2&nbsp;Z, T8&nbsp;D2&nbsp;Y, T8&nbsp;D2&nbsp;X, T10&nbsp;D5&nbsp;Z, T10&nbsp;D5&nbsp;Y, T10&nbsp;D5&nbsp;X, T12&nbsp;H2&nbsp;Z, T12&nbsp;H2&nbsp;Y, T12&nbsp;H2&nbsp;X, Fpz&nbsp;A2&nbsp;Z, Fpz&nbsp;A2&nbsp;Y, Fpz&nbsp;A2&nbsp;X, Fz&nbsp;A5&nbsp;Z, Fz&nbsp;A5&nbsp;Y, Fz&nbsp;A5&nbsp;X, FCz&nbsp;F6&nbsp;Z, FCz&nbsp;F6&nbsp;Y, FCz&nbsp;F6&nbsp;X, Cz&nbsp;E2&nbsp;Z, Cz&nbsp;E2&nbsp;Y, Cz&nbsp;E2&nbsp;X, Pz&nbsp;F8&nbsp;Z, Pz&nbsp;F8&nbsp;Y, Pz&nbsp;F8&nbsp;X, Oz&nbsp;G5&nbsp;Z, Oz&nbsp;G5&nbsp;Y, Oz&nbsp;G5&nbsp;X, Iz&nbsp;H4&nbsp;Z, Iz&nbsp;H4&nbsp;Y, Iz&nbsp;H4&nbsp;X\">\n",
       "            180\n",
       "        </button>\n",
       "\n",
       "        \n",
       "    </td>\n",
       "</tr>\n",
       "\n",
       "    \n",
       "<tr class=\"repr-element channels-f99dc690-06c1-4eda-9adb-3053c30d7c9b \">\n",
       "    <td class=\"mne-repr-section-toggle\"></td>\n",
       "    <td>Stimulus</td>\n",
       "    <td>\n",
       "        <button class=\"mne-ch-names-btn sd-sphinx-override sd-btn sd-btn-info sd-text-wrap sd-shadow-sm\" onclick=\"alert('Good Stimulus:\\n\\nTrigger&nbsp;1, Trigger&nbsp;2, Trigger&nbsp;3, Trigger&nbsp;4, Trigger&nbsp;5, Trigger&nbsp;6, Trigger&nbsp;7, Trigger&nbsp;8, Trigger&nbsp;9, Trigger&nbsp;10, Trigger&nbsp;11, BNC&nbsp;1&nbsp;Z, BNC&nbsp;2&nbsp;Z, BNC&nbsp;3&nbsp;Z, BNC&nbsp;4&nbsp;Z, BNC&nbsp;5&nbsp;Z, BNC&nbsp;6&nbsp;Z, BNC&nbsp;7&nbsp;Z, BNC&nbsp;8&nbsp;Z, BNC&nbsp;9&nbsp;Z, BNC&nbsp;10&nbsp;Z, BNC&nbsp;11&nbsp;Z, BNC&nbsp;12&nbsp;Z, BNC&nbsp;13&nbsp;Z, BNC&nbsp;14&nbsp;Z, BNC&nbsp;15&nbsp;Z, BNC&nbsp;16&nbsp;Z')\" title=\"(Click to open in popup)&#13;&#13;Trigger&nbsp;1, Trigger&nbsp;2, Trigger&nbsp;3, Trigger&nbsp;4, Trigger&nbsp;5, Trigger&nbsp;6, Trigger&nbsp;7, Trigger&nbsp;8, Trigger&nbsp;9, Trigger&nbsp;10, Trigger&nbsp;11, BNC&nbsp;1&nbsp;Z, BNC&nbsp;2&nbsp;Z, BNC&nbsp;3&nbsp;Z, BNC&nbsp;4&nbsp;Z, BNC&nbsp;5&nbsp;Z, BNC&nbsp;6&nbsp;Z, BNC&nbsp;7&nbsp;Z, BNC&nbsp;8&nbsp;Z, BNC&nbsp;9&nbsp;Z, BNC&nbsp;10&nbsp;Z, BNC&nbsp;11&nbsp;Z, BNC&nbsp;12&nbsp;Z, BNC&nbsp;13&nbsp;Z, BNC&nbsp;14&nbsp;Z, BNC&nbsp;15&nbsp;Z, BNC&nbsp;16&nbsp;Z\">\n",
       "            27\n",
       "        </button>\n",
       "\n",
       "        \n",
       "    </td>\n",
       "</tr>\n",
       "\n",
       "\n",
       "<tr class=\"repr-element channels-f99dc690-06c1-4eda-9adb-3053c30d7c9b \">\n",
       "    <td class=\"mne-repr-section-toggle\"></td>\n",
       "    <td>Head & sensor digitization</td>\n",
       "    \n",
       "    <td>15603 points</td>\n",
       "    \n",
       "</tr>\n",
       "    \n",
       "\n",
       "\n",
       "\n",
       "\n",
       "\n",
       "\n",
       "\n",
       "<tr class=\"mne-repr-section-header filters-c8c55b01-aca1-49bb-b0b6-d1752af25e8e\"\n",
       "     title=\"Hide section\" \n",
       "    onclick=\"toggleVisibility('filters-c8c55b01-aca1-49bb-b0b6-d1752af25e8e')\">\n",
       "    <th class=\"mne-repr-section-toggle\">\n",
       "        <button >\n",
       "            <svg xmlns=\"http://www.w3.org/2000/svg\" viewBox=\"0 0 512 512\"><!--!Font Awesome Free 6.6.0 by @fontawesome - https://fontawesome.com License - https://fontawesome.com/license/free Copyright 2024 Fonticons, Inc.--><path d=\"M233.4 406.6c12.5 12.5 32.8 12.5 45.3 0l192-192c12.5-12.5 12.5-32.8 0-45.3s-32.8-12.5-45.3 0L256 338.7 86.6 169.4c-12.5-12.5-32.8-12.5-45.3 0s-12.5 32.8 0 45.3l192 192z\"/></svg>\n",
       "        </button>\n",
       "    </th>\n",
       "    <th colspan=\"2\">\n",
       "        <strong>Filters</strong>\n",
       "    </th>\n",
       "</tr>\n",
       "\n",
       "\n",
       "<tr class=\"repr-element filters-c8c55b01-aca1-49bb-b0b6-d1752af25e8e \">\n",
       "    <td class=\"mne-repr-section-toggle\"></td>\n",
       "    <td>Highpass</td>\n",
       "    <td>0.10 Hz</td>\n",
       "</tr>\n",
       "\n",
       "\n",
       "<tr class=\"repr-element filters-c8c55b01-aca1-49bb-b0b6-d1752af25e8e \">\n",
       "    <td class=\"mne-repr-section-toggle\"></td>\n",
       "    <td>Lowpass</td>\n",
       "    <td>250.00 Hz</td>\n",
       "</tr>\n",
       "\n",
       "\n",
       "<tr class=\"repr-element filters-c8c55b01-aca1-49bb-b0b6-d1752af25e8e \">\n",
       "    <td class=\"mne-repr-section-toggle\"></td>\n",
       "    <td>Projections</td>\n",
       "    <td>\n",
       "        \n",
       "        HFC: l=1 m=-1 (on)\n",
       "        <br />\n",
       "        \n",
       "        HFC: l=1 m=0 (on)\n",
       "        <br />\n",
       "        \n",
       "        HFC: l=1 m=1 (on)\n",
       "        <br />\n",
       "        \n",
       "        HFC: l=2 m=-2 (on)\n",
       "        <br />\n",
       "        \n",
       "        HFC: l=2 m=-1 (on)\n",
       "        <br />\n",
       "        \n",
       "        HFC: l=2 m=0 (on)\n",
       "        <br />\n",
       "        \n",
       "        HFC: l=2 m=1 (on)\n",
       "        <br />\n",
       "        \n",
       "        HFC: l=2 m=2 (on)\n",
       "        \n",
       "        \n",
       "    </td>\n",
       "</tr>\n",
       "\n",
       "</table>"
      ],
      "text/plain": [
       "<Raw | sub-01_ses-01_task-SpAtt_run-01_hfc_raw.fif, 207 x 1539808 (2053.1 s), ~2.38 GiB, data loaded>"
      ]
     },
     "execution_count": 12,
     "metadata": {},
     "output_type": "execute_result"
    }
   ],
   "source": [
    "annotations_event = raw.annotations \n",
    "raw_clean.set_annotations(annotations_event + annotations_blink + annotations_muscle)"
   ]
  },
  {
   "cell_type": "markdown",
   "id": "d6137e36-8491-4150-974c-bc0a647eb2da",
   "metadata": {},
   "source": [
    "To inspect the annotations visually write"
   ]
  },
  {
   "cell_type": "code",
   "execution_count": 13,
   "id": "4c80f083-6e04-4ec4-93b3-b4aa95f40ebd",
   "metadata": {},
   "outputs": [
    {
     "name": "stdout",
     "output_type": "stream",
     "text": [
      "Using qt as 2D backend.\n",
      "Using pyopengl with version 3.1.6\n"
     ]
    },
    {
     "data": {
      "text/plain": [
       "<mne_qt_browser._pg_figure.MNEQtBrowser(0x3478a6930) at 0x351b88300>"
      ]
     },
     "execution_count": 13,
     "metadata": {},
     "output_type": "execute_result"
    },
    {
     "name": "stdout",
     "output_type": "stream",
     "text": [
      "Channels marked as bad:\n",
      "none\n"
     ]
    },
    {
     "name": "stderr",
     "output_type": "stream",
     "text": [
      "/Users/o.jensen@bham.ac.uk/Applications/MNE-Python/1.9.0_0/.mne-python/lib/python3.12/site-packages/mne_qt_browser/_pg_figure.py:3061: RuntimeWarning: Failed to disconnect (None) from signal \"triggered()\".\n",
      "  sig.disconnect()\n"
     ]
    }
   ],
   "source": [
    "%matplotlib inline\n",
    "raw_clean.plot(start=50)"
   ]
  },
  {
   "cell_type": "markdown",
   "id": "e9b8e150-6b47-4216-9bf3-04b426eaaf47",
   "metadata": {},
   "source": [
    "To specifically inspect the ocular artefacts display the ocular signed assigned before (use the + button to increase the signal id not visible):"
   ]
  },
  {
   "cell_type": "code",
   "execution_count": 14,
   "id": "518bdb06-3409-4754-b177-af00dd56df9b",
   "metadata": {},
   "outputs": [
    {
     "name": "stdout",
     "output_type": "stream",
     "text": [
      "Using pyopengl with version 3.1.6\n"
     ]
    },
    {
     "data": {
      "text/plain": [
       "<mne_qt_browser._pg_figure.MNEQtBrowser(0x14f7d5cd0) at 0x35bf38040>"
      ]
     },
     "execution_count": 14,
     "metadata": {},
     "output_type": "execute_result"
    },
    {
     "name": "stdout",
     "output_type": "stream",
     "text": [
      "Channels marked as bad:\n",
      "none\n"
     ]
    },
    {
     "name": "stderr",
     "output_type": "stream",
     "text": [
      "/Users/o.jensen@bham.ac.uk/Applications/MNE-Python/1.9.0_0/.mne-python/lib/python3.12/site-packages/mne_qt_browser/_pg_figure.py:3061: RuntimeWarning: Failed to disconnect (None) from signal \"triggered()\".\n",
      "  sig.disconnect()\n"
     ]
    }
   ],
   "source": [
    "raw_clean.set_channel_types({'Trigger 2':'eog'})\n",
    "eog_picks=mne.pick_types(raw_clean.info,meg=False,eog=True)\n",
    "raw_clean.plot(order=eog_picks,start=50)"
   ]
  },
  {
   "cell_type": "markdown",
   "id": "0f3f4773-490d-43a2-b814-5a88388f255b",
   "metadata": {},
   "source": [
    "### Save the artefact annotations\n",
    "\n",
    "Save the annotations in a file to be used in the subsequent sections:"
   ]
  },
  {
   "cell_type": "code",
   "execution_count": 15,
   "id": "0f4fa877-28ef-4035-a70f-ea6a7bc6c428",
   "metadata": {},
   "outputs": [
    {
     "name": "stdout",
     "output_type": "stream",
     "text": [
      "Writing /Users/o.jensen@bham.ac.uk/Data/CercaOxf/fif/Cerca_Spatt_BIDS/derivatives/preprocessing/sub-01/ses-01/meg/sub-01_ses-01_task-SpAtt_run-01_ann_raw.fif\n",
      "Closing /Users/o.jensen@bham.ac.uk/Data/CercaOxf/fif/Cerca_Spatt_BIDS/derivatives/preprocessing/sub-01/ses-01/meg/sub-01_ses-01_task-SpAtt_run-01_ann_raw.fif\n",
      "[done]\n"
     ]
    }
   ],
   "source": [
    "raw_clean.save(deriv_fname_fif, overwrite=True)\n",
    "raw_clean.annotations.save(deriv_fname_csv, overwrite=True)"
   ]
  },
  {
   "cell_type": "markdown",
   "id": "51eaa7c1-1a6c-4d04-9f88-a880a0ca1304",
   "metadata": {},
   "source": [
    "## Preregistration and Publication"
   ]
  },
  {
   "cell_type": "markdown",
   "id": "d43fef12-37c5-4fd8-b2af-6dea7559e523",
   "metadata": {},
   "source": [
    "Example text:\n",
    "\"Artefact in the data were annotated such that epochs later could be rejected. Ocular artefacts was identifed by substracting then ongoing signal from a left and a right frontal senso (F9 A4 Z and F10 B3 Z). When the absolute difference exceeded 5000 fT this was considered an eye blink and data +/-250 ms were annotated as artefacts.  Muscle artefact were identfied in the OPM data after bandpass filtered in the 110 - 140 Hz range [1]. The data were subsequently z-scored; if the z-score exceed 3, the section of data is were annotated as muscle artefact. \""
   ]
  },
  {
   "cell_type": "markdown",
   "id": "74f9a523-dd96-481d-b1a7-2648825d8971",
   "metadata": {},
   "source": [
    "## References\n",
    "\n",
    "[1] Muthukumaraswamy, S. (2013). *High-frequency brain activity and muscle artifacts in MEG/EEG: a review and recommendations*. *Frontiers in Human Neuroscience*, **7**, 138. [https://doi.org/10.3389/fnhum.2013.00138](https://doi.org/10.3389/fnhum.2013.00138)\n",
    "\n"
   ]
  }
 ],
 "metadata": {
  "kernelspec": {
   "display_name": "Python [conda env:base] *",
   "language": "python",
   "name": "conda-base-py"
  },
  "language_info": {
   "codemirror_mode": {
    "name": "ipython",
    "version": 3
   },
   "file_extension": ".py",
   "mimetype": "text/x-python",
   "name": "python",
   "nbconvert_exporter": "python",
   "pygments_lexer": "ipython3",
   "version": "3.12.7"
  }
 },
 "nbformat": 4,
 "nbformat_minor": 5
}
